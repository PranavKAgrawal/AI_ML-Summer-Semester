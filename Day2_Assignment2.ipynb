{
 "cells": [
  {
   "cell_type": "markdown",
   "id": "e3f62aed-24d4-45a4-98ce-79b1cc5856d2",
   "metadata": {},
   "source": [
    "1. Write a python program to sort the list of heterogeneous data.\n",
    "e.g.\n",
    "L = [\"Ram\", 1, \"Shyam\", 2, \"Aman\", 3]\n",
    "print(L)\n",
    "L.sort()\n",
    "print(L)\n",
    "# Above code gives error. Correct it."
   ]
  },
  {
   "cell_type": "code",
   "execution_count": 16,
   "id": "e3690626-6ace-42bd-8c0d-e05ea4bb24ac",
   "metadata": {},
   "outputs": [
    {
     "name": "stdout",
     "output_type": "stream",
     "text": [
      "Ram\n",
      "1\n",
      "Shyam\n",
      "2\n",
      "Aman\n",
      "3\n",
      "['Ram', 'Shyam', 'Aman', 1, 2, 3]\n",
      "['Ram', 'Shyam', 'Aman', 1, 2, 3]\n"
     ]
    }
   ],
   "source": [
    "L = [\"Ram\", 1, \"Shyam\", 2, \"Aman\", 3]\n",
    "for i in L:\n",
    "    print(i)\n",
    "L1 = [\"Ram\" , \"Shyam\" , \"Aman\"]\n",
    "L2 = [1,2,3]\n",
    "L = L1 + L2\n",
    "print(L)\n",
    "s1 = []\n",
    "s2 = []\n",
    "#s1 = L1.sort()\n",
    "#s2 = L2.sort()\n",
    "#print(s1)\n",
    "#print(s2)\n",
    "#L.sort()\n",
    "print(L)"
   ]
  },
  {
   "cell_type": "code",
   "execution_count": null,
   "id": "b5ab7b74-be9a-443f-a7d9-8d7ceb51e8ae",
   "metadata": {},
   "outputs": [],
   "source": []
  }
 ],
 "metadata": {
  "kernelspec": {
   "display_name": "Python 3 (ipykernel)",
   "language": "python",
   "name": "python3"
  },
  "language_info": {
   "codemirror_mode": {
    "name": "ipython",
    "version": 3
   },
   "file_extension": ".py",
   "mimetype": "text/x-python",
   "name": "python",
   "nbconvert_exporter": "python",
   "pygments_lexer": "ipython3",
   "version": "3.9.13"
  }
 },
 "nbformat": 4,
 "nbformat_minor": 5
}
