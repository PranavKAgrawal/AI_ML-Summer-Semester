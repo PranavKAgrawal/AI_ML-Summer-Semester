{
 "cells": [
  {
   "cell_type": "code",
   "execution_count": 12,
   "id": "43cf21d7-2034-4680-9353-d2d4fd250396",
   "metadata": {},
   "outputs": [],
   "source": [
    "L = [11, 12, 13, 14]"
   ]
  },
  {
   "cell_type": "markdown",
   "id": "d90a6e22-06bb-48bd-9eec-dd6ab9b54be4",
   "metadata": {},
   "source": [
    "Q1. L is a list defined as L= [11, 12, 13, 14]."
   ]
  },
  {
   "cell_type": "markdown",
   "id": "8b26dfa2-e035-458e-a046-4e5a32e48f0e",
   "metadata": {},
   "source": [
    "(i) WAP to add 50 and 60 to L."
   ]
  },
  {
   "cell_type": "code",
   "execution_count": 13,
   "id": "6c5332ed-0782-4463-ac7a-38ee0598c1cc",
   "metadata": {},
   "outputs": [
    {
     "data": {
      "text/plain": [
       "[11, 12, 13, 14, 50, 60]"
      ]
     },
     "execution_count": 13,
     "metadata": {},
     "output_type": "execute_result"
    }
   ],
   "source": [
    "L.append(50)\n",
    "L.append(60)\n",
    "L"
   ]
  },
  {
   "cell_type": "markdown",
   "id": "5e5c14dd-4a89-4fa1-8303-78b9c272f764",
   "metadata": {},
   "source": [
    "(ii) WAP to remove 11 and 13from L."
   ]
  },
  {
   "cell_type": "code",
   "execution_count": 14,
   "id": "607913e5-1a33-404c-bcc8-1871914cb0e3",
   "metadata": {},
   "outputs": [
    {
     "data": {
      "text/plain": [
       "[12, 14, 50, 60]"
      ]
     },
     "execution_count": 14,
     "metadata": {},
     "output_type": "execute_result"
    }
   ],
   "source": [
    "L.remove(11)\n",
    "L\n",
    "L.remove(13)\n",
    "L"
   ]
  },
  {
   "cell_type": "markdown",
   "id": "53b943bf-8062-42fd-9213-f11fbcb9a375",
   "metadata": {},
   "source": [
    "(iii) WAP to sort L in ascending order."
   ]
  },
  {
   "cell_type": "code",
   "execution_count": 17,
   "id": "74b8f2b1-eb34-4f2d-aabd-3e3580e5da8f",
   "metadata": {},
   "outputs": [
    {
     "data": {
      "text/plain": [
       "[12, 14, 50, 60]"
      ]
     },
     "execution_count": 17,
     "metadata": {},
     "output_type": "execute_result"
    }
   ],
   "source": [
    "L.sort()\n",
    "L"
   ]
  },
  {
   "cell_type": "markdown",
   "id": "3fcf538f-8ea1-4d46-8739-c30f4f41d2cf",
   "metadata": {},
   "source": [
    "(iv) WAP to sort L in descending order."
   ]
  },
  {
   "cell_type": "code",
   "execution_count": 19,
   "id": "7ac178f6-ad5e-42a5-a8f9-4e7df15aecac",
   "metadata": {},
   "outputs": [
    {
     "data": {
      "text/plain": [
       "[60, 50, 14, 12]"
      ]
     },
     "execution_count": 19,
     "metadata": {},
     "output_type": "execute_result"
    }
   ],
   "source": [
    "L.sort(reverse=True)\n",
    "L"
   ]
  },
  {
   "cell_type": "markdown",
   "id": "25530c15-3670-4d4c-b061-7998cac4b119",
   "metadata": {},
   "source": [
    "(v) WAP to search for 13 in L."
   ]
  },
  {
   "cell_type": "code",
   "execution_count": 22,
   "id": "58ed0a01-da2d-43bb-b328-e7a64ce6f8c1",
   "metadata": {},
   "outputs": [
    {
     "name": "stdout",
     "output_type": "stream",
     "text": [
      "13 not found in L \n"
     ]
    }
   ],
   "source": [
    "if 13 in L:\n",
    "    print(\"13 found in L \")\n",
    "else:\n",
    "    print(\"13 not found in L \")"
   ]
  },
  {
   "cell_type": "markdown",
   "id": "411801a3-4dc8-4849-918c-53a0286014a4",
   "metadata": {},
   "source": [
    "(vi) WAP to count the number of elements present in L."
   ]
  },
  {
   "cell_type": "code",
   "execution_count": 23,
   "id": "46634e49-cad9-4eba-acb4-4a6cc653ccc7",
   "metadata": {},
   "outputs": [
    {
     "name": "stdout",
     "output_type": "stream",
     "text": [
      "Number of elements in List L :  4\n"
     ]
    }
   ],
   "source": [
    "print(\"Number of elements in List L : \" ,len(L))"
   ]
  },
  {
   "cell_type": "markdown",
   "id": "3121ac4c-1325-4dc7-981b-4e7db5ea0854",
   "metadata": {},
   "source": [
    "(vii) WAP to sum all the elements in L.\n"
   ]
  },
  {
   "cell_type": "code",
   "execution_count": 24,
   "id": "fb24fb05-391e-4ca9-a407-f53ea037c20b",
   "metadata": {},
   "outputs": [
    {
     "name": "stdout",
     "output_type": "stream",
     "text": [
      "Sum of the elements in L :  136\n"
     ]
    }
   ],
   "source": [
    "sum = 0\n",
    "for i in L:\n",
    "    sum = sum + i\n",
    "print(\"Sum of the elements in L : \" , sum)"
   ]
  },
  {
   "cell_type": "markdown",
   "id": "e844c7da-54c5-4545-ab9b-b8db16cae8a7",
   "metadata": {},
   "source": [
    "(viii) WAP to sum all ODD numbers in L."
   ]
  },
  {
   "cell_type": "code",
   "execution_count": 26,
   "id": "df960576-d3e0-4605-9691-649b27cc6f13",
   "metadata": {},
   "outputs": [
    {
     "name": "stdout",
     "output_type": "stream",
     "text": [
      "Sum all ODD numbers in L :  0\n"
     ]
    }
   ],
   "source": [
    "sum = 0\n",
    "for i in L :\n",
    "    if i % 2 != 0:\n",
    "        sum = sum + i\n",
    "print(\"Sum all ODD numbers in L : \" , sum)"
   ]
  },
  {
   "cell_type": "markdown",
   "id": "92ebe01a-59f3-40c0-8e97-80aad1c65041",
   "metadata": {},
   "source": [
    "(ix) WAP to sum all EVEN numbers in L.\n"
   ]
  },
  {
   "cell_type": "code",
   "execution_count": 27,
   "id": "efc52a0a-8c01-488c-9efe-9ae907a1e5ea",
   "metadata": {},
   "outputs": [
    {
     "name": "stdout",
     "output_type": "stream",
     "text": [
      "Sum all ODD numbers in L :  136\n"
     ]
    }
   ],
   "source": [
    "sum = 0\n",
    "for i in L :\n",
    "    if i % 2 == 0:\n",
    "        sum = sum + i\n",
    "print(\"Sum all ODD numbers in L : \" , sum)"
   ]
  },
  {
   "cell_type": "markdown",
   "id": "c6b2bc7b-d78c-401a-b1c7-61ee32e22d16",
   "metadata": {},
   "source": [
    "(x) WAP to sum all PRIME numbers in L."
   ]
  },
  {
   "cell_type": "code",
   "execution_count": 29,
   "id": "c838290b-6c51-4d9f-bf67-acb49948610f",
   "metadata": {},
   "outputs": [
    {
     "name": "stdout",
     "output_type": "stream",
     "text": [
      "Sum all PRIME numbers in L: 0\n"
     ]
    }
   ],
   "source": [
    "sum = 0\n",
    "for k in  L:\n",
    "    for i in range(2, k//2 + 1):\n",
    "        if  k % i == 0: \n",
    "            f=1\n",
    "            break\n",
    "\n",
    "    if f==0:\n",
    "        sum = sum + k\n",
    "\n",
    "print(\"Sum all PRIME numbers in L:\" , sum)"
   ]
  },
  {
   "cell_type": "markdown",
   "id": "2be9cce5-0714-4949-b889-34fd4c965aa1",
   "metadata": {},
   "source": [
    "(xi) WAP to clear all the elements in L."
   ]
  },
  {
   "cell_type": "code",
   "execution_count": 30,
   "id": "4bdc4012-ac87-4fbe-8b2b-891d1534dbf8",
   "metadata": {},
   "outputs": [
    {
     "data": {
      "text/plain": [
       "[]"
      ]
     },
     "execution_count": 30,
     "metadata": {},
     "output_type": "execute_result"
    }
   ],
   "source": [
    "L.clear()\n",
    "L"
   ]
  },
  {
   "cell_type": "markdown",
   "id": "50c11561-b09a-4de8-a935-63480ff7525e",
   "metadata": {},
   "source": [
    "(xii) WAP to delete L.\n"
   ]
  },
  {
   "cell_type": "code",
   "execution_count": 31,
   "id": "0463c65b-4549-4ecd-b936-fdccb67e38d5",
   "metadata": {},
   "outputs": [
    {
     "ename": "NameError",
     "evalue": "name 'L' is not defined",
     "output_type": "error",
     "traceback": [
      "\u001b[1;31m---------------------------------------------------------------------------\u001b[0m",
      "\u001b[1;31mNameError\u001b[0m                                 Traceback (most recent call last)",
      "\u001b[1;32m~\\AppData\\Local\\Temp\\ipykernel_1420\\1424664005.py\u001b[0m in \u001b[0;36m<module>\u001b[1;34m\u001b[0m\n\u001b[0;32m      1\u001b[0m \u001b[1;32mdel\u001b[0m \u001b[0mL\u001b[0m\u001b[1;33m\u001b[0m\u001b[1;33m\u001b[0m\u001b[0m\n\u001b[1;32m----> 2\u001b[1;33m \u001b[0mL\u001b[0m\u001b[1;33m\u001b[0m\u001b[1;33m\u001b[0m\u001b[0m\n\u001b[0m",
      "\u001b[1;31mNameError\u001b[0m: name 'L' is not defined"
     ]
    }
   ],
   "source": [
    "del L\n",
    "L"
   ]
  },
  {
   "cell_type": "markdown",
   "id": "02479a4a-eb2d-4e4f-a780-5499ad161f46",
   "metadata": {},
   "source": [
    "Q2. D is a dictionary defined as D= {1:5.6, 2:7.8, 3:6.6, 4:8.7, 5:7.7}."
   ]
  },
  {
   "cell_type": "code",
   "execution_count": 36,
   "id": "2b5de714-e007-4f40-a576-d2483b9656e3",
   "metadata": {},
   "outputs": [
    {
     "data": {
      "text/plain": [
       "{1: 5.6, 2: 7.8, 3: 6.6, 4: 8.7, 5: 7.7}"
      ]
     },
     "execution_count": 36,
     "metadata": {},
     "output_type": "execute_result"
    }
   ],
   "source": [
    "D= {1:5.6, 2:7.8, 3:6.6, 4:8.7, 5:7.7}\n",
    "D"
   ]
  },
  {
   "cell_type": "markdown",
   "id": "47d93ddb-5fca-4f9a-85cc-3f4be2e9929d",
   "metadata": {},
   "source": [
    "(i) WAP to add new entry in D; key=8 and value is 8.8"
   ]
  },
  {
   "cell_type": "code",
   "execution_count": 37,
   "id": "3137da77-4cb7-43b1-8fd2-431b2361247a",
   "metadata": {},
   "outputs": [
    {
     "data": {
      "text/plain": [
       "{1: 5.6, 2: 7.8, 3: 6.6, 4: 8.7, 5: 7.7, 8: 8.8}"
      ]
     },
     "execution_count": 37,
     "metadata": {},
     "output_type": "execute_result"
    }
   ],
   "source": [
    "D[8]=8.8\n",
    "D"
   ]
  },
  {
   "cell_type": "markdown",
   "id": "99cd149a-63dc-4217-9a6d-afbed566efea",
   "metadata": {},
   "source": [
    "(ii) WAP to remove key=2."
   ]
  },
  {
   "cell_type": "code",
   "execution_count": 39,
   "id": "8e97b546-d450-4ad1-9902-cc01e0032bd7",
   "metadata": {},
   "outputs": [
    {
     "data": {
      "text/plain": [
       "{1: 5.6, 3: 6.6, 4: 8.7, 5: 7.7, 8: 8.8}"
      ]
     },
     "execution_count": 39,
     "metadata": {},
     "output_type": "execute_result"
    }
   ],
   "source": [
    "del D[2]\n",
    "D"
   ]
  },
  {
   "cell_type": "markdown",
   "id": "af8af4cb-b501-407b-aebe-eda1de40a580",
   "metadata": {},
   "source": [
    "(iii) WAP to check weather 6 key is present in D."
   ]
  },
  {
   "cell_type": "code",
   "execution_count": 41,
   "id": "211dcbb6-4dd9-48fc-99bb-dc0b3c97abcf",
   "metadata": {},
   "outputs": [
    {
     "name": "stdout",
     "output_type": "stream",
     "text": [
      "6 key is not present in D.\n"
     ]
    }
   ],
   "source": [
    "if 6 in D:\n",
    "    print(\"6 key is present in D.\")\n",
    "else:\n",
    "    print(\"6 key is not present in D.\")"
   ]
  },
  {
   "cell_type": "markdown",
   "id": "00b0e364-4dc3-4410-8c36-a44d7282b4c4",
   "metadata": {},
   "source": [
    "(iv) WAP to count the number of elements present in D."
   ]
  },
  {
   "cell_type": "code",
   "execution_count": 43,
   "id": "7aa196e4-076b-4a99-bf14-9a71f36b6669",
   "metadata": {},
   "outputs": [
    {
     "name": "stdout",
     "output_type": "stream",
     "text": [
      "Number of elements present in D : 5\n"
     ]
    },
    {
     "data": {
      "text/plain": [
       "{1: 5.6, 3: 6.6, 4: 8.7, 5: 7.7, 8: 8.8}"
      ]
     },
     "execution_count": 43,
     "metadata": {},
     "output_type": "execute_result"
    }
   ],
   "source": [
    "count = 0\n",
    "for K in D:\n",
    "    count = count + 1\n",
    "print(\"Number of elements present in D :\", count)\n",
    "D"
   ]
  },
  {
   "cell_type": "markdown",
   "id": "fb13df11-031f-407f-962c-1e841df0bd1a",
   "metadata": {},
   "source": [
    "(v) WAP to add all the values present D"
   ]
  },
  {
   "cell_type": "code",
   "execution_count": 50,
   "id": "75174eda-b8c8-4f0e-b236-d3becadcebf7",
   "metadata": {},
   "outputs": [
    {
     "name": "stdout",
     "output_type": "stream",
     "text": [
      "Sum of all values in D :  31.8\n"
     ]
    }
   ],
   "source": [
    "sum = 0\n",
    "values = list(D.values())\n",
    "for i in range(1,len(values),1):\n",
    "    sum = sum + values[i]\n",
    "print(\"Sum of all values in D : \" , sum )"
   ]
  },
  {
   "cell_type": "markdown",
   "id": "33b3f29a-8e11-4aa7-b57d-42ef1346dfae",
   "metadata": {},
   "source": [
    "(vi) WAP to update the value of 3 to 7.1"
   ]
  },
  {
   "cell_type": "code",
   "execution_count": 52,
   "id": "1f8779fc-430a-4923-bd2c-13a76279d957",
   "metadata": {},
   "outputs": [
    {
     "name": "stdout",
     "output_type": "stream",
     "text": [
      "Old Dictionary before update :  {1: 5.6, 3: 6.6, 4: 8.7, 5: 7.7, 8: 8.8}\n",
      "New Dictionary after update :  {1: 5.6, 3: 7.1, 4: 8.7, 5: 7.7, 8: 8.8}\n"
     ]
    }
   ],
   "source": [
    "print(\"Old Dictionary before update : \", D)\n",
    "D[3]=7.1\n",
    "print(\"New Dictionary after update : \", D)"
   ]
  },
  {
   "cell_type": "markdown",
   "id": "d5877a67-5674-4f02-b3a6-259a25a607ae",
   "metadata": {},
   "source": [
    "(vii) WAP to clear the dictionary."
   ]
  },
  {
   "cell_type": "code",
   "execution_count": 53,
   "id": "f91cb08c-3b62-4dc1-8fa0-a8d422c234b5",
   "metadata": {},
   "outputs": [
    {
     "data": {
      "text/plain": [
       "{}"
      ]
     },
     "execution_count": 53,
     "metadata": {},
     "output_type": "execute_result"
    }
   ],
   "source": [
    "D.clear()\n",
    "D"
   ]
  },
  {
   "cell_type": "markdown",
   "id": "54e9e87d-a14c-422a-a14d-64ddbd0afd80",
   "metadata": {},
   "source": [
    "Q3. S1 is a set defined as S1= [10, 20, 30, 40, 50, 60].\n",
    " S2 is a set defined as S2= [40, 50, 60, 70, 80, 90].\n"
   ]
  },
  {
   "cell_type": "code",
   "execution_count": 57,
   "id": "7f79eedc-b29c-4b2d-b72f-921f3b13aaf9",
   "metadata": {},
   "outputs": [
    {
     "name": "stdout",
     "output_type": "stream",
     "text": [
      "S1: [10, 20, 30, 40, 50, 60]\n",
      "S2: [40, 50, 60, 70, 80, 90]\n"
     ]
    }
   ],
   "source": [
    "S1= [10, 20, 30, 40, 50, 60]\n",
    "S2= [40, 50, 60, 70, 80, 90]\n",
    "print(\"S1:\",S1)\n",
    "print(\"S2:\",S2)"
   ]
  },
  {
   "cell_type": "markdown",
   "id": "42f78ec6-4dbf-4b46-a834-c8e204850ea5",
   "metadata": {},
   "source": [
    "(i) WAP to add 55 and 66 in Set S1.\n"
   ]
  },
  {
   "cell_type": "code",
   "execution_count": 59,
   "id": "e6df7db6-a527-4cfd-ba52-80c14817f248",
   "metadata": {},
   "outputs": [
    {
     "data": {
      "text/plain": [
       "[10, 20, 30, 40, 50, 60, 55, 66]"
      ]
     },
     "execution_count": 59,
     "metadata": {},
     "output_type": "execute_result"
    }
   ],
   "source": [
    "S1.append(55)\n",
    "S1.append(66)\n",
    "S1"
   ]
  },
  {
   "cell_type": "markdown",
   "id": "61d03e0a-cd32-4241-836b-1378a1af4b78",
   "metadata": {},
   "source": [
    "(ii) WAP to remove 10 and 30 from Set S1"
   ]
  },
  {
   "cell_type": "code",
   "execution_count": 60,
   "id": "f5e5c288-944b-41b1-8c38-aa4a7da546ae",
   "metadata": {},
   "outputs": [
    {
     "data": {
      "text/plain": [
       "[20, 30, 50, 60, 55, 66]"
      ]
     },
     "execution_count": 60,
     "metadata": {},
     "output_type": "execute_result"
    }
   ],
   "source": [
    "del S1[0]\n",
    "del S1[2]\n",
    "S1"
   ]
  },
  {
   "cell_type": "markdown",
   "id": "01142ec8-8736-4648-a1ff-925e7ed3a04a",
   "metadata": {},
   "source": [
    "(iii) WAP to check whether 40 is present in S1.\n"
   ]
  },
  {
   "cell_type": "code",
   "execution_count": 61,
   "id": "f72619f5-ba9b-4d75-89ad-7b8d023e0ba2",
   "metadata": {},
   "outputs": [
    {
     "name": "stdout",
     "output_type": "stream",
     "text": [
      "40 is not present in S1.\n"
     ]
    }
   ],
   "source": [
    "if 40 in S1:\n",
    "    print(\"40 is present in S1.\")\n",
    "else:\n",
    "    print(\"40 is not present in S1.\")"
   ]
  },
  {
   "cell_type": "markdown",
   "id": "9e3d9ca5-7676-4618-97f4-f24a81fa48fe",
   "metadata": {},
   "source": [
    "(iv) WAP to find the union between S1 and S2.\n"
   ]
  },
  {
   "cell_type": "code",
   "execution_count": 63,
   "id": "1e559d8a-37d5-4baa-b495-b5dd617acea0",
   "metadata": {},
   "outputs": [
    {
     "name": "stdout",
     "output_type": "stream",
     "text": [
      "Union of S1 and S2 :  [20, 30, 50, 60, 55, 66, 40, 50, 60, 70, 80, 90]\n"
     ]
    }
   ],
   "source": [
    "print(\"Union of S1 and S2 : \" , S1 + S2)"
   ]
  },
  {
   "cell_type": "markdown",
   "id": "45bf9ea2-9103-4ae2-a013-08918e5f44ff",
   "metadata": {},
   "source": [
    "(v) WAP to find the intersection between S1 and S2."
   ]
  },
  {
   "cell_type": "code",
   "execution_count": 65,
   "id": "9c8eed86-be10-4adb-a301-c11f2dcbf318",
   "metadata": {},
   "outputs": [
    {
     "name": "stdout",
     "output_type": "stream",
     "text": [
      "Intersection of S1 and S2:  [50, 60]\n"
     ]
    }
   ],
   "source": [
    "intersection = []\n",
    "for i in S1:\n",
    "    for j in S2:\n",
    "        if i==j:\n",
    "            intersection.append(i)\n",
    "print(\"Intersection of S1 and S2: \", intersection)  "
   ]
  },
  {
   "cell_type": "markdown",
   "id": "9a7cc527-d245-427b-8541-bfc945e9172b",
   "metadata": {},
   "source": [
    "(vi) WAP to find the S1 - S2."
   ]
  },
  {
   "cell_type": "code",
   "execution_count": 70,
   "id": "0e32d501-4ef5-41b6-a221-cd499da4368e",
   "metadata": {},
   "outputs": [
    {
     "name": "stdout",
     "output_type": "stream",
     "text": [
      "S1: [20, 30, 50, 60, 55, 66]\n",
      "S2: [40, 50, 60, 70, 80, 90]\n",
      "S1 - S2:  [20, 20, 30, 30, 50, 60, 55, 55, 66, 66]\n"
     ]
    }
   ],
   "source": [
    "print(\"S1:\",S1)\n",
    "print(\"S2:\",S2)\n",
    "intersection = []\n",
    "for i in S1:\n",
    "    for j in S2:\n",
    "        if i==j:\n",
    "            intersection.append(i)\n",
    "l = []\n",
    "for i in S1:\n",
    "    for j in intersection:\n",
    "        if i!=j:\n",
    "            l.append(i)\n",
    "            \n",
    "\n",
    "print(\"S1 - S2: \", l)  "
   ]
  },
  {
   "cell_type": "markdown",
   "id": "9579ab57-4774-4b2d-b65d-d43f66b7ea64",
   "metadata": {},
   "source": [
    "Q4. Write the following program.\n",
    "(i) WAP to print 100 random strings whose length between 6 and 8"
   ]
  },
  {
   "cell_type": "code",
   "execution_count": 76,
   "id": "2d8d0d2a-0494-427b-b906-c478666d4629",
   "metadata": {},
   "outputs": [
    {
     "name": "stdout",
     "output_type": "stream",
     "text": [
      "String-->  OZWvjb\n",
      "String-->  rXyivDA\n",
      "String-->  bEUKegTW\n",
      "String-->  vobEna\n",
      "String-->  icQlhJw\n",
      "String-->  EqACgOej\n",
      "String-->  MiBAgK\n",
      "String-->  QlqIJan\n",
      "String-->  qYQEGIka\n",
      "String-->  hZTsAR\n",
      "String-->  tQMnpal\n",
      "String-->  HCKNWPdT\n",
      "String-->  MajBOl\n",
      "String-->  AMDpCdQ\n",
      "String-->  AKuJtimC\n",
      "String-->  xYTCej\n",
      "String-->  izBoHds\n",
      "String-->  ztXupALx\n",
      "String-->  qLcQrE\n",
      "String-->  POCkynJ\n",
      "String-->  btxGHnSY\n",
      "String-->  mczeAL\n",
      "String-->  keMdqKH\n",
      "String-->  GsmaLArx\n",
      "String-->  GBzDFZ\n",
      "String-->  EGgTtAJ\n",
      "String-->  QbSBcuid\n",
      "String-->  jOtfFq\n",
      "String-->  YiFoWHj\n",
      "String-->  NtVsGAyx\n",
      "String-->  KnMUIi\n",
      "String-->  euOLNhS\n",
      "String-->  mTNaBQnF\n",
      "String-->  IVjLmv\n",
      "String-->  hxtRZqY\n",
      "String-->  AlLVyCiw\n",
      "String-->  NVvZTl\n",
      "String-->  WGgaDQf\n",
      "String-->  OyJvCDVE\n",
      "String-->  xUoAuK\n",
      "String-->  UFMGxiv\n",
      "String-->  JBzhHtqp\n",
      "String-->  tBnZCu\n",
      "String-->  cQAyKrB\n",
      "String-->  nJTqWBKu\n",
      "String-->  MpPdYO\n",
      "String-->  HXkUdNp\n",
      "String-->  xKjHGhZd\n",
      "String-->  fsZyOH\n",
      "String-->  efEJyPd\n",
      "String-->  OVLmJIkE\n",
      "String-->  vnUkWO\n",
      "String-->  vcRfFnq\n",
      "String-->  rQgLUDwo\n",
      "String-->  VjYLkG\n",
      "String-->  PAMrJyQ\n",
      "String-->  vTblkBNw\n",
      "String-->  jZYmsV\n",
      "String-->  tVGaExl\n",
      "String-->  aHErwAvk\n",
      "String-->  FZhWLm\n",
      "String-->  XbwDGOe\n",
      "String-->  PXIocfbE\n",
      "String-->  aYCBjv\n",
      "String-->  qDpOlyg\n",
      "String-->  MiwPRrEN\n",
      "String-->  XQwPUY\n",
      "String-->  MOHtQwJ\n",
      "String-->  tHeCmdkU\n",
      "String-->  gRFnoQ\n",
      "String-->  NyVRKnD\n",
      "String-->  tpvSQJCM\n",
      "String-->  OCskZa\n",
      "String-->  XuEFCsR\n",
      "String-->  UurGRfwH\n",
      "String-->  nrhOYN\n",
      "String-->  LRmqBJX\n",
      "String-->  wjXkzRaV\n",
      "String-->  MmHpyF\n",
      "String-->  NhIOEKn\n",
      "String-->  uqiTkbDE\n",
      "String-->  fdATFc\n",
      "String-->  dCwMlik\n",
      "String-->  NhsIrdbw\n",
      "String-->  mJkSyw\n",
      "String-->  tiXcnsC\n",
      "String-->  yAwiSoMt\n",
      "String-->  DUOuiZ\n",
      "String-->  iRaSOVy\n",
      "String-->  RVCJQkXN\n",
      "String-->  tTvmzo\n",
      "String-->  IXjbvLG\n",
      "String-->  YqpwHFEc\n",
      "String-->  PbgnZs\n",
      "String-->  qFQjvni\n",
      "String-->  BrvKVSpU\n",
      "String-->  AYWsPnNZ\n"
     ]
    }
   ],
   "source": [
    "import string as s\n",
    "import random as r\n",
    "#print (\"String        --> \",s.ascii_letters)\n",
    "\n",
    "for i in range(1,33,1):\n",
    "    str1=r.sample(s.ascii_letters, 6)\n",
    "    str1=\"\".join(str1)\n",
    "    print (\"String--> \",str1)\n",
    "    str2=r.sample(s.ascii_letters, 7)\n",
    "    str2=\"\".join(str2)\n",
    "    print (\"String--> \",str2)\n",
    "    str3=r.sample(s.ascii_letters, 8)\n",
    "    str3=\"\".join(str3)\n",
    "    print (\"String--> \",str3)\n",
    "    \n",
    "str4=r.sample(s.ascii_letters, 8)\n",
    "str4=\"\".join(str4)\n",
    "print (\"String--> \",str4)"
   ]
  },
  {
   "cell_type": "code",
   "execution_count": null,
   "id": "c53881f1-e649-46c5-a14e-69d3a2218551",
   "metadata": {},
   "outputs": [],
   "source": []
  }
 ],
 "metadata": {
  "kernelspec": {
   "display_name": "Python 3 (ipykernel)",
   "language": "python",
   "name": "python3"
  },
  "language_info": {
   "codemirror_mode": {
    "name": "ipython",
    "version": 3
   },
   "file_extension": ".py",
   "mimetype": "text/x-python",
   "name": "python",
   "nbconvert_exporter": "python",
   "pygments_lexer": "ipython3",
   "version": "3.9.13"
  }
 },
 "nbformat": 4,
 "nbformat_minor": 5
}
