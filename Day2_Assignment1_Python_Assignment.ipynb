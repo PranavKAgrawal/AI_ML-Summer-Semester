{
  "cells": [
    {
      "cell_type": "markdown",
      "metadata": {
        "id": "view-in-github",
        "colab_type": "text"
      },
      "source": [
        "<a href=\"https://colab.research.google.com/github/PranavKAgrawal/AI_ML-Summer-Semester/blob/main/Day2_Assignment1_Python_Assignment.ipynb\" target=\"_parent\"><img src=\"https://colab.research.google.com/assets/colab-badge.svg\" alt=\"Open In Colab\"/></a>"
      ]
    },
    {
      "cell_type": "code",
      "execution_count": null,
      "id": "43cf21d7-2034-4680-9353-d2d4fd250396",
      "metadata": {
        "id": "43cf21d7-2034-4680-9353-d2d4fd250396"
      },
      "outputs": [],
      "source": [
        "L = [11, 12, 13, 14]"
      ]
    },
    {
      "cell_type": "markdown",
      "id": "8b26dfa2-e035-458e-a046-4e5a32e48f0e",
      "metadata": {
        "id": "8b26dfa2-e035-458e-a046-4e5a32e48f0e"
      },
      "source": [
        "(i) WAP to add 50 and 60 to L."
      ]
    },
    {
      "cell_type": "markdown",
      "id": "d90a6e22-06bb-48bd-9eec-dd6ab9b54be4",
      "metadata": {
        "id": "d90a6e22-06bb-48bd-9eec-dd6ab9b54be4"
      },
      "source": [
        "Q1. L is a list defined as L= [11, 12, 13, 14]."
      ]
    },
    {
      "cell_type": "code",
      "execution_count": null,
      "id": "6c5332ed-0782-4463-ac7a-38ee0598c1cc",
      "metadata": {
        "id": "6c5332ed-0782-4463-ac7a-38ee0598c1cc",
        "outputId": "8d09f28f-10db-4843-c16e-4a79700ed1a4"
      },
      "outputs": [
        {
          "data": {
            "text/plain": [
              "[11, 12, 13, 14, 50, 60]"
            ]
          },
          "execution_count": 13,
          "metadata": {},
          "output_type": "execute_result"
        }
      ],
      "source": [
        "L.append(50)\n",
        "L.append(60)\n",
        "L"
      ]
    },
    {
      "cell_type": "markdown",
      "id": "5e5c14dd-4a89-4fa1-8303-78b9c272f764",
      "metadata": {
        "id": "5e5c14dd-4a89-4fa1-8303-78b9c272f764"
      },
      "source": [
        "(ii) WAP to remove 11 and 13from L."
      ]
    },
    {
      "cell_type": "code",
      "execution_count": null,
      "id": "607913e5-1a33-404c-bcc8-1871914cb0e3",
      "metadata": {
        "id": "607913e5-1a33-404c-bcc8-1871914cb0e3",
        "outputId": "6e8b956a-6b01-4c65-ae44-e9eb73526cd4"
      },
      "outputs": [
        {
          "data": {
            "text/plain": [
              "[12, 14, 50, 60]"
            ]
          },
          "execution_count": 14,
          "metadata": {},
          "output_type": "execute_result"
        }
      ],
      "source": [
        "L.remove(11)\n",
        "L\n",
        "L.remove(13)\n",
        "L"
      ]
    },
    {
      "cell_type": "markdown",
      "id": "53b943bf-8062-42fd-9213-f11fbcb9a375",
      "metadata": {
        "id": "53b943bf-8062-42fd-9213-f11fbcb9a375"
      },
      "source": [
        "(iii) WAP to sort L in ascending order."
      ]
    },
    {
      "cell_type": "code",
      "execution_count": null,
      "id": "74b8f2b1-eb34-4f2d-aabd-3e3580e5da8f",
      "metadata": {
        "id": "74b8f2b1-eb34-4f2d-aabd-3e3580e5da8f",
        "outputId": "9e71c728-77bb-4ec3-c83a-bad2d1dee76b"
      },
      "outputs": [
        {
          "data": {
            "text/plain": [
              "[12, 14, 50, 60]"
            ]
          },
          "execution_count": 17,
          "metadata": {},
          "output_type": "execute_result"
        }
      ],
      "source": [
        "L.sort()\n",
        "L"
      ]
    },
    {
      "cell_type": "markdown",
      "id": "3fcf538f-8ea1-4d46-8739-c30f4f41d2cf",
      "metadata": {
        "id": "3fcf538f-8ea1-4d46-8739-c30f4f41d2cf"
      },
      "source": [
        "(iv) WAP to sort L in descending order."
      ]
    },
    {
      "cell_type": "code",
      "execution_count": null,
      "id": "7ac178f6-ad5e-42a5-a8f9-4e7df15aecac",
      "metadata": {
        "id": "7ac178f6-ad5e-42a5-a8f9-4e7df15aecac",
        "outputId": "3e950095-7688-4f2c-e6ff-754e8ee8f2fe"
      },
      "outputs": [
        {
          "data": {
            "text/plain": [
              "[60, 50, 14, 12]"
            ]
          },
          "execution_count": 19,
          "metadata": {},
          "output_type": "execute_result"
        }
      ],
      "source": [
        "L.sort(reverse=True)\n",
        "L"
      ]
    },
    {
      "cell_type": "markdown",
      "id": "25530c15-3670-4d4c-b061-7998cac4b119",
      "metadata": {
        "id": "25530c15-3670-4d4c-b061-7998cac4b119"
      },
      "source": [
        "(v) WAP to search for 13 in L."
      ]
    },
    {
      "cell_type": "code",
      "execution_count": null,
      "id": "58ed0a01-da2d-43bb-b328-e7a64ce6f8c1",
      "metadata": {
        "id": "58ed0a01-da2d-43bb-b328-e7a64ce6f8c1",
        "outputId": "d8b755ea-dab7-4106-bf02-89b13ca8f26c"
      },
      "outputs": [
        {
          "name": "stdout",
          "output_type": "stream",
          "text": [
            "13 not found in L \n"
          ]
        }
      ],
      "source": [
        "if 13 in L:\n",
        "    print(\"13 found in L \")\n",
        "else:\n",
        "    print(\"13 not found in L \")"
      ]
    },
    {
      "cell_type": "markdown",
      "id": "411801a3-4dc8-4849-918c-53a0286014a4",
      "metadata": {
        "id": "411801a3-4dc8-4849-918c-53a0286014a4"
      },
      "source": [
        "(vi) WAP to count the number of elements present in L."
      ]
    },
    {
      "cell_type": "code",
      "execution_count": null,
      "id": "46634e49-cad9-4eba-acb4-4a6cc653ccc7",
      "metadata": {
        "id": "46634e49-cad9-4eba-acb4-4a6cc653ccc7",
        "outputId": "edd16aa2-1352-4576-ac3c-fc16ef97b43b"
      },
      "outputs": [
        {
          "name": "stdout",
          "output_type": "stream",
          "text": [
            "Number of elements in List L :  4\n"
          ]
        }
      ],
      "source": [
        "print(\"Number of elements in List L : \" ,len(L))"
      ]
    },
    {
      "cell_type": "markdown",
      "id": "3121ac4c-1325-4dc7-981b-4e7db5ea0854",
      "metadata": {
        "id": "3121ac4c-1325-4dc7-981b-4e7db5ea0854"
      },
      "source": [
        "(vii) WAP to sum all the elements in L.\n"
      ]
    },
    {
      "cell_type": "code",
      "execution_count": null,
      "id": "fb24fb05-391e-4ca9-a407-f53ea037c20b",
      "metadata": {
        "id": "fb24fb05-391e-4ca9-a407-f53ea037c20b",
        "outputId": "ddec2d13-f86b-4677-b243-8c53d2bd53f3"
      },
      "outputs": [
        {
          "name": "stdout",
          "output_type": "stream",
          "text": [
            "Sum of the elements in L :  136\n"
          ]
        }
      ],
      "source": [
        "sum = 0\n",
        "for i in L:\n",
        "    sum = sum + i\n",
        "print(\"Sum of the elements in L : \" , sum)"
      ]
    },
    {
      "cell_type": "markdown",
      "id": "e844c7da-54c5-4545-ab9b-b8db16cae8a7",
      "metadata": {
        "id": "e844c7da-54c5-4545-ab9b-b8db16cae8a7"
      },
      "source": [
        "(viii) WAP to sum all ODD numbers in L."
      ]
    },
    {
      "cell_type": "code",
      "execution_count": null,
      "id": "df960576-d3e0-4605-9691-649b27cc6f13",
      "metadata": {
        "id": "df960576-d3e0-4605-9691-649b27cc6f13",
        "outputId": "0016cc40-c104-4e43-940a-170cabcfa656"
      },
      "outputs": [
        {
          "name": "stdout",
          "output_type": "stream",
          "text": [
            "Sum all ODD numbers in L :  0\n"
          ]
        }
      ],
      "source": [
        "sum = 0\n",
        "for i in L :\n",
        "    if i % 2 != 0:\n",
        "        sum = sum + i\n",
        "print(\"Sum all ODD numbers in L : \" , sum)"
      ]
    },
    {
      "cell_type": "markdown",
      "id": "92ebe01a-59f3-40c0-8e97-80aad1c65041",
      "metadata": {
        "id": "92ebe01a-59f3-40c0-8e97-80aad1c65041"
      },
      "source": [
        "(ix) WAP to sum all EVEN numbers in L.\n"
      ]
    },
    {
      "cell_type": "code",
      "execution_count": null,
      "id": "efc52a0a-8c01-488c-9efe-9ae907a1e5ea",
      "metadata": {
        "id": "efc52a0a-8c01-488c-9efe-9ae907a1e5ea",
        "outputId": "59a43a99-61fa-4742-aa50-b8c2c1703230"
      },
      "outputs": [
        {
          "name": "stdout",
          "output_type": "stream",
          "text": [
            "Sum all ODD numbers in L :  136\n"
          ]
        }
      ],
      "source": [
        "sum = 0\n",
        "for i in L :\n",
        "    if i % 2 == 0:\n",
        "        sum = sum + i\n",
        "print(\"Sum all ODD numbers in L : \" , sum)"
      ]
    },
    {
      "cell_type": "markdown",
      "id": "c6b2bc7b-d78c-401a-b1c7-61ee32e22d16",
      "metadata": {
        "id": "c6b2bc7b-d78c-401a-b1c7-61ee32e22d16"
      },
      "source": [
        "(x) WAP to sum all PRIME numbers in L."
      ]
    },
    {
      "cell_type": "code",
      "execution_count": null,
      "id": "c838290b-6c51-4d9f-bf67-acb49948610f",
      "metadata": {
        "id": "c838290b-6c51-4d9f-bf67-acb49948610f",
        "outputId": "722a4566-fd0e-4234-a95d-6a9488150924"
      },
      "outputs": [
        {
          "name": "stdout",
          "output_type": "stream",
          "text": [
            "Sum all PRIME numbers in L: 0\n"
          ]
        }
      ],
      "source": [
        "sum = 0\n",
        "for k in  L:\n",
        "    for i in range(2, k//2 + 1):\n",
        "        if  k % i == 0: \n",
        "            f=1\n",
        "            break\n",
        "\n",
        "    if f==0:\n",
        "        sum = sum + k\n",
        "\n",
        "print(\"Sum all PRIME numbers in L:\" , sum)"
      ]
    },
    {
      "cell_type": "markdown",
      "id": "2be9cce5-0714-4949-b889-34fd4c965aa1",
      "metadata": {
        "id": "2be9cce5-0714-4949-b889-34fd4c965aa1"
      },
      "source": [
        "(xi) WAP to clear all the elements in L."
      ]
    },
    {
      "cell_type": "code",
      "execution_count": null,
      "id": "4bdc4012-ac87-4fbe-8b2b-891d1534dbf8",
      "metadata": {
        "id": "4bdc4012-ac87-4fbe-8b2b-891d1534dbf8",
        "outputId": "723f5cfb-e1d1-4523-a11a-5e1b16538ffe"
      },
      "outputs": [
        {
          "data": {
            "text/plain": [
              "[]"
            ]
          },
          "execution_count": 30,
          "metadata": {},
          "output_type": "execute_result"
        }
      ],
      "source": [
        "L.clear()\n",
        "L"
      ]
    },
    {
      "cell_type": "markdown",
      "id": "50c11561-b09a-4de8-a935-63480ff7525e",
      "metadata": {
        "id": "50c11561-b09a-4de8-a935-63480ff7525e"
      },
      "source": [
        "(xii) WAP to delete L.\n"
      ]
    },
    {
      "cell_type": "code",
      "execution_count": null,
      "id": "0463c65b-4549-4ecd-b936-fdccb67e38d5",
      "metadata": {
        "id": "0463c65b-4549-4ecd-b936-fdccb67e38d5",
        "outputId": "c467e191-4bc2-4dd6-dcb3-938adca67512"
      },
      "outputs": [
        {
          "ename": "NameError",
          "evalue": "name 'L' is not defined",
          "output_type": "error",
          "traceback": [
            "\u001b[1;31m---------------------------------------------------------------------------\u001b[0m",
            "\u001b[1;31mNameError\u001b[0m                                 Traceback (most recent call last)",
            "\u001b[1;32m~\\AppData\\Local\\Temp\\ipykernel_1420\\1424664005.py\u001b[0m in \u001b[0;36m<module>\u001b[1;34m\u001b[0m\n\u001b[0;32m      1\u001b[0m \u001b[1;32mdel\u001b[0m \u001b[0mL\u001b[0m\u001b[1;33m\u001b[0m\u001b[1;33m\u001b[0m\u001b[0m\n\u001b[1;32m----> 2\u001b[1;33m \u001b[0mL\u001b[0m\u001b[1;33m\u001b[0m\u001b[1;33m\u001b[0m\u001b[0m\n\u001b[0m",
            "\u001b[1;31mNameError\u001b[0m: name 'L' is not defined"
          ]
        }
      ],
      "source": [
        "del L\n",
        "L"
      ]
    },
    {
      "cell_type": "markdown",
      "id": "02479a4a-eb2d-4e4f-a780-5499ad161f46",
      "metadata": {
        "id": "02479a4a-eb2d-4e4f-a780-5499ad161f46"
      },
      "source": [
        "Q2. D is a dictionary defined as D= {1:5.6, 2:7.8, 3:6.6, 4:8.7, 5:7.7}."
      ]
    },
    {
      "cell_type": "code",
      "execution_count": null,
      "id": "2b5de714-e007-4f40-a576-d2483b9656e3",
      "metadata": {
        "id": "2b5de714-e007-4f40-a576-d2483b9656e3",
        "outputId": "940ed159-9d7f-47f3-8e55-693d564be5d5"
      },
      "outputs": [
        {
          "data": {
            "text/plain": [
              "{1: 5.6, 2: 7.8, 3: 6.6, 4: 8.7, 5: 7.7}"
            ]
          },
          "execution_count": 36,
          "metadata": {},
          "output_type": "execute_result"
        }
      ],
      "source": [
        "D= {1:5.6, 2:7.8, 3:6.6, 4:8.7, 5:7.7}\n",
        "D"
      ]
    },
    {
      "cell_type": "markdown",
      "id": "47d93ddb-5fca-4f9a-85cc-3f4be2e9929d",
      "metadata": {
        "id": "47d93ddb-5fca-4f9a-85cc-3f4be2e9929d"
      },
      "source": [
        "(i) WAP to add new entry in D; key=8 and value is 8.8"
      ]
    },
    {
      "cell_type": "code",
      "execution_count": null,
      "id": "3137da77-4cb7-43b1-8fd2-431b2361247a",
      "metadata": {
        "id": "3137da77-4cb7-43b1-8fd2-431b2361247a",
        "outputId": "d6d4b1a3-112f-4a76-c8f5-b038ea810ad4"
      },
      "outputs": [
        {
          "data": {
            "text/plain": [
              "{1: 5.6, 2: 7.8, 3: 6.6, 4: 8.7, 5: 7.7, 8: 8.8}"
            ]
          },
          "execution_count": 37,
          "metadata": {},
          "output_type": "execute_result"
        }
      ],
      "source": [
        "D[8]=8.8\n",
        "D"
      ]
    },
    {
      "cell_type": "markdown",
      "id": "99cd149a-63dc-4217-9a6d-afbed566efea",
      "metadata": {
        "id": "99cd149a-63dc-4217-9a6d-afbed566efea"
      },
      "source": [
        "(ii) WAP to remove key=2."
      ]
    },
    {
      "cell_type": "code",
      "execution_count": null,
      "id": "8e97b546-d450-4ad1-9902-cc01e0032bd7",
      "metadata": {
        "id": "8e97b546-d450-4ad1-9902-cc01e0032bd7",
        "outputId": "55a45677-0cbe-48b1-ddf0-ebddc7d20b7b"
      },
      "outputs": [
        {
          "data": {
            "text/plain": [
              "{1: 5.6, 3: 6.6, 4: 8.7, 5: 7.7, 8: 8.8}"
            ]
          },
          "execution_count": 39,
          "metadata": {},
          "output_type": "execute_result"
        }
      ],
      "source": [
        "del D[2]\n",
        "D"
      ]
    },
    {
      "cell_type": "markdown",
      "id": "af8af4cb-b501-407b-aebe-eda1de40a580",
      "metadata": {
        "id": "af8af4cb-b501-407b-aebe-eda1de40a580"
      },
      "source": [
        "(iii) WAP to check weather 6 key is present in D."
      ]
    },
    {
      "cell_type": "code",
      "execution_count": null,
      "id": "211dcbb6-4dd9-48fc-99bb-dc0b3c97abcf",
      "metadata": {
        "id": "211dcbb6-4dd9-48fc-99bb-dc0b3c97abcf",
        "outputId": "634308ad-ef52-4049-ea40-171a6e921185"
      },
      "outputs": [
        {
          "name": "stdout",
          "output_type": "stream",
          "text": [
            "6 key is not present in D.\n"
          ]
        }
      ],
      "source": [
        "if 6 in D:\n",
        "    print(\"6 key is present in D.\")\n",
        "else:\n",
        "    print(\"6 key is not present in D.\")"
      ]
    },
    {
      "cell_type": "markdown",
      "id": "00b0e364-4dc3-4410-8c36-a44d7282b4c4",
      "metadata": {
        "id": "00b0e364-4dc3-4410-8c36-a44d7282b4c4"
      },
      "source": [
        "(iv) WAP to count the number of elements present in D."
      ]
    },
    {
      "cell_type": "code",
      "execution_count": null,
      "id": "7aa196e4-076b-4a99-bf14-9a71f36b6669",
      "metadata": {
        "id": "7aa196e4-076b-4a99-bf14-9a71f36b6669",
        "outputId": "78d39d45-50ce-43b3-bb81-371a62e80155"
      },
      "outputs": [
        {
          "name": "stdout",
          "output_type": "stream",
          "text": [
            "Number of elements present in D : 5\n"
          ]
        },
        {
          "data": {
            "text/plain": [
              "{1: 5.6, 3: 6.6, 4: 8.7, 5: 7.7, 8: 8.8}"
            ]
          },
          "execution_count": 43,
          "metadata": {},
          "output_type": "execute_result"
        }
      ],
      "source": [
        "count = 0\n",
        "for K in D:\n",
        "    count = count + 1\n",
        "print(\"Number of elements present in D :\", count)\n",
        "D"
      ]
    },
    {
      "cell_type": "markdown",
      "id": "fb13df11-031f-407f-962c-1e841df0bd1a",
      "metadata": {
        "id": "fb13df11-031f-407f-962c-1e841df0bd1a"
      },
      "source": [
        "(v) WAP to add all the values present D"
      ]
    },
    {
      "cell_type": "code",
      "execution_count": null,
      "id": "75174eda-b8c8-4f0e-b236-d3becadcebf7",
      "metadata": {
        "id": "75174eda-b8c8-4f0e-b236-d3becadcebf7",
        "outputId": "d34a270e-d1d1-47d7-ba5b-9f6fdc2a0046"
      },
      "outputs": [
        {
          "name": "stdout",
          "output_type": "stream",
          "text": [
            "Sum of all values in D :  31.8\n"
          ]
        }
      ],
      "source": [
        "sum = 0\n",
        "values = list(D.values())\n",
        "for i in range(1,len(values),1):\n",
        "    sum = sum + values[i]\n",
        "print(\"Sum of all values in D : \" , sum )"
      ]
    },
    {
      "cell_type": "markdown",
      "id": "33b3f29a-8e11-4aa7-b57d-42ef1346dfae",
      "metadata": {
        "id": "33b3f29a-8e11-4aa7-b57d-42ef1346dfae"
      },
      "source": [
        "(vi) WAP to update the value of 3 to 7.1"
      ]
    },
    {
      "cell_type": "code",
      "execution_count": null,
      "id": "1f8779fc-430a-4923-bd2c-13a76279d957",
      "metadata": {
        "id": "1f8779fc-430a-4923-bd2c-13a76279d957",
        "outputId": "2d79a040-90df-4758-efb9-5ca2d5e8663d"
      },
      "outputs": [
        {
          "name": "stdout",
          "output_type": "stream",
          "text": [
            "Old Dictionary before update :  {1: 5.6, 3: 6.6, 4: 8.7, 5: 7.7, 8: 8.8}\n",
            "New Dictionary after update :  {1: 5.6, 3: 7.1, 4: 8.7, 5: 7.7, 8: 8.8}\n"
          ]
        }
      ],
      "source": [
        "print(\"Old Dictionary before update : \", D)\n",
        "D[3]=7.1\n",
        "print(\"New Dictionary after update : \", D)"
      ]
    },
    {
      "cell_type": "markdown",
      "id": "d5877a67-5674-4f02-b3a6-259a25a607ae",
      "metadata": {
        "id": "d5877a67-5674-4f02-b3a6-259a25a607ae"
      },
      "source": [
        "(vii) WAP to clear the dictionary."
      ]
    },
    {
      "cell_type": "code",
      "execution_count": null,
      "id": "f91cb08c-3b62-4dc1-8fa0-a8d422c234b5",
      "metadata": {
        "id": "f91cb08c-3b62-4dc1-8fa0-a8d422c234b5",
        "outputId": "22079697-c936-4b45-f3f0-f2badfe75827"
      },
      "outputs": [
        {
          "data": {
            "text/plain": [
              "{}"
            ]
          },
          "execution_count": 53,
          "metadata": {},
          "output_type": "execute_result"
        }
      ],
      "source": [
        "D.clear()\n",
        "D"
      ]
    },
    {
      "cell_type": "markdown",
      "id": "54e9e87d-a14c-422a-a14d-64ddbd0afd80",
      "metadata": {
        "id": "54e9e87d-a14c-422a-a14d-64ddbd0afd80"
      },
      "source": [
        "Q3. S1 is a set defined as S1= [10, 20, 30, 40, 50, 60].\n",
        " S2 is a set defined as S2= [40, 50, 60, 70, 80, 90].\n"
      ]
    },
    {
      "cell_type": "code",
      "execution_count": null,
      "id": "7f79eedc-b29c-4b2d-b72f-921f3b13aaf9",
      "metadata": {
        "id": "7f79eedc-b29c-4b2d-b72f-921f3b13aaf9",
        "outputId": "fe886013-5d3b-40d6-da01-65a0c6884fca"
      },
      "outputs": [
        {
          "name": "stdout",
          "output_type": "stream",
          "text": [
            "S1: [10, 20, 30, 40, 50, 60]\n",
            "S2: [40, 50, 60, 70, 80, 90]\n"
          ]
        }
      ],
      "source": [
        "S1= [10, 20, 30, 40, 50, 60]\n",
        "S2= [40, 50, 60, 70, 80, 90]\n",
        "print(\"S1:\",S1)\n",
        "print(\"S2:\",S2)"
      ]
    },
    {
      "cell_type": "markdown",
      "id": "42f78ec6-4dbf-4b46-a834-c8e204850ea5",
      "metadata": {
        "id": "42f78ec6-4dbf-4b46-a834-c8e204850ea5"
      },
      "source": [
        "(i) WAP to add 55 and 66 in Set S1.\n"
      ]
    },
    {
      "cell_type": "code",
      "execution_count": null,
      "id": "e6df7db6-a527-4cfd-ba52-80c14817f248",
      "metadata": {
        "id": "e6df7db6-a527-4cfd-ba52-80c14817f248",
        "outputId": "dbf25114-3245-420c-f6fe-ded1e8f3d013"
      },
      "outputs": [
        {
          "data": {
            "text/plain": [
              "[10, 20, 30, 40, 50, 60, 55, 66]"
            ]
          },
          "execution_count": 59,
          "metadata": {},
          "output_type": "execute_result"
        }
      ],
      "source": [
        "S1.append(55)\n",
        "S1.append(66)\n",
        "S1"
      ]
    },
    {
      "cell_type": "markdown",
      "id": "61d03e0a-cd32-4241-836b-1378a1af4b78",
      "metadata": {
        "id": "61d03e0a-cd32-4241-836b-1378a1af4b78"
      },
      "source": [
        "(ii) WAP to remove 10 and 30 from Set S1"
      ]
    },
    {
      "cell_type": "code",
      "execution_count": null,
      "id": "f5e5c288-944b-41b1-8c38-aa4a7da546ae",
      "metadata": {
        "id": "f5e5c288-944b-41b1-8c38-aa4a7da546ae",
        "outputId": "3bc2314d-0366-4592-d2bc-d555c9307695"
      },
      "outputs": [
        {
          "data": {
            "text/plain": [
              "[20, 30, 50, 60, 55, 66]"
            ]
          },
          "execution_count": 60,
          "metadata": {},
          "output_type": "execute_result"
        }
      ],
      "source": [
        "del S1[0]\n",
        "del S1[2]\n",
        "S1"
      ]
    },
    {
      "cell_type": "markdown",
      "id": "01142ec8-8736-4648-a1ff-925e7ed3a04a",
      "metadata": {
        "id": "01142ec8-8736-4648-a1ff-925e7ed3a04a"
      },
      "source": [
        "(iii) WAP to check whether 40 is present in S1.\n"
      ]
    },
    {
      "cell_type": "code",
      "execution_count": null,
      "id": "f72619f5-ba9b-4d75-89ad-7b8d023e0ba2",
      "metadata": {
        "id": "f72619f5-ba9b-4d75-89ad-7b8d023e0ba2",
        "outputId": "744759f7-877e-44da-bef0-0ba914bb4b9f"
      },
      "outputs": [
        {
          "name": "stdout",
          "output_type": "stream",
          "text": [
            "40 is not present in S1.\n"
          ]
        }
      ],
      "source": [
        "if 40 in S1:\n",
        "    print(\"40 is present in S1.\")\n",
        "else:\n",
        "    print(\"40 is not present in S1.\")"
      ]
    },
    {
      "cell_type": "markdown",
      "id": "9e3d9ca5-7676-4618-97f4-f24a81fa48fe",
      "metadata": {
        "id": "9e3d9ca5-7676-4618-97f4-f24a81fa48fe"
      },
      "source": [
        "(iv) WAP to find the union between S1 and S2.\n"
      ]
    },
    {
      "cell_type": "code",
      "execution_count": null,
      "id": "1e559d8a-37d5-4baa-b495-b5dd617acea0",
      "metadata": {
        "id": "1e559d8a-37d5-4baa-b495-b5dd617acea0",
        "outputId": "1b6040ab-fdbc-420c-bee1-1f95d4324b81"
      },
      "outputs": [
        {
          "name": "stdout",
          "output_type": "stream",
          "text": [
            "Union of S1 and S2 :  [20, 30, 50, 60, 55, 66, 40, 50, 60, 70, 80, 90]\n"
          ]
        }
      ],
      "source": [
        "print(\"Union of S1 and S2 : \" , S1 + S2)"
      ]
    },
    {
      "cell_type": "markdown",
      "id": "45bf9ea2-9103-4ae2-a013-08918e5f44ff",
      "metadata": {
        "id": "45bf9ea2-9103-4ae2-a013-08918e5f44ff"
      },
      "source": [
        "(v) WAP to find the intersection between S1 and S2."
      ]
    },
    {
      "cell_type": "code",
      "execution_count": null,
      "id": "9c8eed86-be10-4adb-a301-c11f2dcbf318",
      "metadata": {
        "id": "9c8eed86-be10-4adb-a301-c11f2dcbf318",
        "outputId": "bc3d5f40-fc2f-41f2-dfd5-d6bd0f1545c3"
      },
      "outputs": [
        {
          "name": "stdout",
          "output_type": "stream",
          "text": [
            "Intersection of S1 and S2:  [50, 60]\n"
          ]
        }
      ],
      "source": [
        "intersection = []\n",
        "for i in S1:\n",
        "    for j in S2:\n",
        "        if i==j:\n",
        "            intersection.append(i)\n",
        "print(\"Intersection of S1 and S2: \", intersection)  "
      ]
    },
    {
      "cell_type": "markdown",
      "id": "9a7cc527-d245-427b-8541-bfc945e9172b",
      "metadata": {
        "id": "9a7cc527-d245-427b-8541-bfc945e9172b"
      },
      "source": [
        "(vi) WAP to find the S1 - S2."
      ]
    },
    {
      "cell_type": "code",
      "execution_count": null,
      "id": "0e32d501-4ef5-41b6-a221-cd499da4368e",
      "metadata": {
        "id": "0e32d501-4ef5-41b6-a221-cd499da4368e",
        "outputId": "8a03a657-9fea-44da-eea8-b3f05357533f"
      },
      "outputs": [
        {
          "name": "stdout",
          "output_type": "stream",
          "text": [
            "S1: [20, 30, 50, 60, 55, 66]\n",
            "S2: [40, 50, 60, 70, 80, 90]\n",
            "S1 - S2:  [20, 20, 30, 30, 50, 60, 55, 55, 66, 66]\n"
          ]
        }
      ],
      "source": [
        "print(\"S1:\",S1)\n",
        "print(\"S2:\",S2)\n",
        "intersection = []\n",
        "for i in S1:\n",
        "    for j in S2:\n",
        "        if i==j:\n",
        "            intersection.append(i)\n",
        "l = []\n",
        "for i in S1:\n",
        "    for j in intersection:\n",
        "        if i!=j:\n",
        "            l.append(i)\n",
        "            \n",
        "\n",
        "print(\"S1 - S2: \", l)  "
      ]
    },
    {
      "cell_type": "markdown",
      "id": "9579ab57-4774-4b2d-b65d-d43f66b7ea64",
      "metadata": {
        "id": "9579ab57-4774-4b2d-b65d-d43f66b7ea64"
      },
      "source": [
        "Q4. Write the following program.\n",
        "(i) WAP to print 100 random strings whose length between 6 and 8"
      ]
    },
    {
      "cell_type": "code",
      "execution_count": null,
      "id": "2d8d0d2a-0494-427b-b906-c478666d4629",
      "metadata": {
        "id": "2d8d0d2a-0494-427b-b906-c478666d4629",
        "outputId": "98b75e5a-13cf-4198-a414-1903f0c5eef9"
      },
      "outputs": [
        {
          "name": "stdout",
          "output_type": "stream",
          "text": [
            "String-->  XKUNaC\n",
            "String-->  jyGigTC\n",
            "String-->  yiBpgaJs\n",
            "String-->  UfaRNL\n",
            "String-->  ZIuAodB\n",
            "String-->  ukLxJbga\n",
            "String-->  IoSnwl\n",
            "String-->  KIkgOAt\n",
            "String-->  MlLApIxn\n",
            "String-->  GcSmBU\n",
            "String-->  LGhDXpg\n",
            "String-->  tEJejGqb\n",
            "String-->  LWXskO\n",
            "String-->  raZEeVu\n",
            "String-->  IDARzqZa\n",
            "String-->  iGNQBk\n",
            "String-->  mzWJbvi\n",
            "String-->  qgMsPUwc\n",
            "String-->  KorzOj\n",
            "String-->  sFUZgEx\n",
            "String-->  RrCALoNK\n",
            "String-->  NIbAUv\n",
            "String-->  MWhGesS\n",
            "String-->  iYAtqDWc\n",
            "String-->  fzVJlF\n",
            "String-->  tnfjocE\n",
            "String-->  ljXRKOTM\n",
            "String-->  lMvhbg\n",
            "String-->  zvEXlTi\n",
            "String-->  WPylkquS\n",
            "String-->  zlAUYQ\n",
            "String-->  DTAWCUt\n",
            "String-->  FWbrzmLg\n",
            "String-->  dUvFye\n",
            "String-->  YKAegcD\n",
            "String-->  mxSJUjAD\n",
            "String-->  FUQImN\n",
            "String-->  ahIZOSu\n",
            "String-->  qPnHXBWs\n",
            "String-->  DKlhFo\n",
            "String-->  BHEXUdp\n",
            "String-->  hjdEfBXx\n",
            "String-->  UTqIwM\n",
            "String-->  IkliPpS\n",
            "String-->  XuzRZKDA\n",
            "String-->  UyNdqQ\n",
            "String-->  eoqTvMN\n",
            "String-->  tcdBDgSV\n",
            "String-->  fcELqg\n",
            "String-->  kdXHxwP\n",
            "String-->  TcEvHRmz\n",
            "String-->  toRnuM\n",
            "String-->  wEtpWIu\n",
            "String-->  zvtfDEWX\n",
            "String-->  jxSwhH\n",
            "String-->  NLEMauX\n",
            "String-->  PvhKwxIj\n",
            "String-->  hpsvto\n",
            "String-->  FogWKhP\n",
            "String-->  SpbczAgP\n",
            "String-->  cKRNog\n",
            "String-->  lLHwqQW\n",
            "String-->  CFYoMKQv\n",
            "String-->  rQGNvB\n",
            "String-->  FRWpVKk\n",
            "String-->  viUKDubF\n",
            "String-->  ZBlJCQ\n",
            "String-->  YKmqrsz\n",
            "String-->  AjLRHCIi\n",
            "String-->  eYJFqx\n",
            "String-->  AYLuKfT\n",
            "String-->  HuikIFwf\n",
            "String-->  nZoSTO\n",
            "String-->  NZdxBJC\n",
            "String-->  ywYTtZPD\n",
            "String-->  HYSfMX\n",
            "String-->  aJrjvPS\n",
            "String-->  UqBRykho\n",
            "String-->  dNDSKk\n",
            "String-->  EDPWkzY\n",
            "String-->  fmXJueZp\n",
            "String-->  CxMfRL\n",
            "String-->  vChEqLW\n",
            "String-->  PQdWvxpB\n",
            "String-->  zcTViv\n",
            "String-->  StojGIR\n",
            "String-->  rgROwEIj\n",
            "String-->  HuOFfj\n",
            "String-->  eESjRfK\n",
            "String-->  UdOjHlCA\n",
            "String-->  qXQkKC\n",
            "String-->  ojNmZXz\n",
            "String-->  CJEKIAXu\n",
            "String-->  QJMUms\n",
            "String-->  epIKujY\n",
            "String-->  sMANDTox\n",
            "String-->  dJDtnlHx\n"
          ]
        }
      ],
      "source": [
        "import string as s\n",
        "import random as r\n",
        "#print (\"String        --> \",s.ascii_letters)\n",
        "\n",
        "for i in range(1,33,1):\n",
        "    str1=r.sample(s.ascii_letters, 6)\n",
        "    str1=\"\".join(str1)\n",
        "    print (\"String--> \",str1)\n",
        "    str2=r.sample(s.ascii_letters, 7)\n",
        "    str2=\"\".join(str2)\n",
        "    print (\"String--> \",str2)\n",
        "    str3=r.sample(s.ascii_letters, 8)\n",
        "    str3=\"\".join(str3)\n",
        "    print (\"String--> \",str3)\n",
        "    \n",
        "str4=r.sample(s.ascii_letters, 8)\n",
        "str4=\"\".join(str4)\n",
        "print (\"String--> \",str4)"
      ]
    },
    {
      "cell_type": "markdown",
      "id": "56995adc-9d2c-492d-b4b8-fc52162e6b85",
      "metadata": {
        "id": "56995adc-9d2c-492d-b4b8-fc52162e6b85"
      },
      "source": [
        "(ii) WAP to print all prime numbers between 600 and 800."
      ]
    },
    {
      "cell_type": "code",
      "execution_count": null,
      "id": "ac4747bb-fd79-4ea4-a09f-66d1fcf12f96",
      "metadata": {
        "id": "ac4747bb-fd79-4ea4-a09f-66d1fcf12f96",
        "outputId": "217adc88-1e1a-4a5c-8449-cc3017ed8948"
      },
      "outputs": [
        {
          "name": "stdout",
          "output_type": "stream",
          "text": [
            "Prime number between 400 & 600 --> Number 401 : 401\n",
            "Prime number between 400 & 600 --> Number 403 : 403\n",
            "Prime number between 400 & 600 --> Number 405 : 405\n",
            "Prime number between 400 & 600 --> Number 407 : 407\n",
            "Prime number between 400 & 600 --> Number 409 : 409\n",
            "Prime number between 400 & 600 --> Number 411 : 411\n",
            "Prime number between 400 & 600 --> Number 413 : 413\n",
            "Prime number between 400 & 600 --> Number 415 : 415\n",
            "Prime number between 400 & 600 --> Number 417 : 417\n",
            "Prime number between 400 & 600 --> Number 419 : 419\n",
            "Prime number between 400 & 600 --> Number 421 : 421\n",
            "Prime number between 400 & 600 --> Number 423 : 423\n",
            "Prime number between 400 & 600 --> Number 425 : 425\n",
            "Prime number between 400 & 600 --> Number 427 : 427\n",
            "Prime number between 400 & 600 --> Number 429 : 429\n",
            "Prime number between 400 & 600 --> Number 431 : 431\n",
            "Prime number between 400 & 600 --> Number 433 : 433\n",
            "Prime number between 400 & 600 --> Number 435 : 435\n",
            "Prime number between 400 & 600 --> Number 437 : 437\n",
            "Prime number between 400 & 600 --> Number 439 : 439\n",
            "Prime number between 400 & 600 --> Number 441 : 441\n",
            "Prime number between 400 & 600 --> Number 443 : 443\n",
            "Prime number between 400 & 600 --> Number 445 : 445\n",
            "Prime number between 400 & 600 --> Number 447 : 447\n",
            "Prime number between 400 & 600 --> Number 449 : 449\n",
            "Prime number between 400 & 600 --> Number 451 : 451\n",
            "Prime number between 400 & 600 --> Number 453 : 453\n",
            "Prime number between 400 & 600 --> Number 455 : 455\n",
            "Prime number between 400 & 600 --> Number 457 : 457\n",
            "Prime number between 400 & 600 --> Number 459 : 459\n",
            "Prime number between 400 & 600 --> Number 461 : 461\n",
            "Prime number between 400 & 600 --> Number 463 : 463\n",
            "Prime number between 400 & 600 --> Number 465 : 465\n",
            "Prime number between 400 & 600 --> Number 467 : 467\n",
            "Prime number between 400 & 600 --> Number 469 : 469\n",
            "Prime number between 400 & 600 --> Number 471 : 471\n",
            "Prime number between 400 & 600 --> Number 473 : 473\n",
            "Prime number between 400 & 600 --> Number 475 : 475\n",
            "Prime number between 400 & 600 --> Number 477 : 477\n",
            "Prime number between 400 & 600 --> Number 479 : 479\n",
            "Prime number between 400 & 600 --> Number 481 : 481\n",
            "Prime number between 400 & 600 --> Number 483 : 483\n",
            "Prime number between 400 & 600 --> Number 485 : 485\n",
            "Prime number between 400 & 600 --> Number 487 : 487\n",
            "Prime number between 400 & 600 --> Number 489 : 489\n",
            "Prime number between 400 & 600 --> Number 491 : 491\n",
            "Prime number between 400 & 600 --> Number 493 : 493\n",
            "Prime number between 400 & 600 --> Number 495 : 495\n",
            "Prime number between 400 & 600 --> Number 497 : 497\n",
            "Prime number between 400 & 600 --> Number 499 : 499\n",
            "Prime number between 400 & 600 --> Number 501 : 501\n",
            "Prime number between 400 & 600 --> Number 503 : 503\n",
            "Prime number between 400 & 600 --> Number 505 : 505\n",
            "Prime number between 400 & 600 --> Number 507 : 507\n",
            "Prime number between 400 & 600 --> Number 509 : 509\n",
            "Prime number between 400 & 600 --> Number 511 : 511\n",
            "Prime number between 400 & 600 --> Number 513 : 513\n",
            "Prime number between 400 & 600 --> Number 515 : 515\n",
            "Prime number between 400 & 600 --> Number 517 : 517\n",
            "Prime number between 400 & 600 --> Number 519 : 519\n",
            "Prime number between 400 & 600 --> Number 521 : 521\n",
            "Prime number between 400 & 600 --> Number 523 : 523\n",
            "Prime number between 400 & 600 --> Number 525 : 525\n",
            "Prime number between 400 & 600 --> Number 527 : 527\n",
            "Prime number between 400 & 600 --> Number 529 : 529\n",
            "Prime number between 400 & 600 --> Number 531 : 531\n",
            "Prime number between 400 & 600 --> Number 533 : 533\n",
            "Prime number between 400 & 600 --> Number 535 : 535\n",
            "Prime number between 400 & 600 --> Number 537 : 537\n",
            "Prime number between 400 & 600 --> Number 539 : 539\n",
            "Prime number between 400 & 600 --> Number 541 : 541\n",
            "Prime number between 400 & 600 --> Number 543 : 543\n",
            "Prime number between 400 & 600 --> Number 545 : 545\n",
            "Prime number between 400 & 600 --> Number 547 : 547\n",
            "Prime number between 400 & 600 --> Number 549 : 549\n",
            "Prime number between 400 & 600 --> Number 551 : 551\n",
            "Prime number between 400 & 600 --> Number 553 : 553\n",
            "Prime number between 400 & 600 --> Number 555 : 555\n",
            "Prime number between 400 & 600 --> Number 557 : 557\n",
            "Prime number between 400 & 600 --> Number 559 : 559\n",
            "Prime number between 400 & 600 --> Number 561 : 561\n",
            "Prime number between 400 & 600 --> Number 563 : 563\n",
            "Prime number between 400 & 600 --> Number 565 : 565\n",
            "Prime number between 400 & 600 --> Number 567 : 567\n",
            "Prime number between 400 & 600 --> Number 569 : 569\n",
            "Prime number between 400 & 600 --> Number 571 : 571\n",
            "Prime number between 400 & 600 --> Number 573 : 573\n",
            "Prime number between 400 & 600 --> Number 575 : 575\n",
            "Prime number between 400 & 600 --> Number 577 : 577\n",
            "Prime number between 400 & 600 --> Number 579 : 579\n",
            "Prime number between 400 & 600 --> Number 581 : 581\n",
            "Prime number between 400 & 600 --> Number 583 : 583\n",
            "Prime number between 400 & 600 --> Number 585 : 585\n",
            "Prime number between 400 & 600 --> Number 587 : 587\n",
            "Prime number between 400 & 600 --> Number 589 : 589\n",
            "Prime number between 400 & 600 --> Number 591 : 591\n",
            "Prime number between 400 & 600 --> Number 593 : 593\n",
            "Prime number between 400 & 600 --> Number 595 : 595\n",
            "Prime number between 400 & 600 --> Number 597 : 597\n",
            "Prime number between 400 & 600 --> Number 599 : 599\n"
          ]
        }
      ],
      "source": [
        "def IsPrime(n):\n",
        "    for i in range(2, n//2 + 1):\n",
        "        if n%i==0:\n",
        "            return 0\n",
        "        return n\n",
        "\n",
        "for i in range(400,601):\n",
        "    if IsPrime(i) ==0:\n",
        "        continue\n",
        "    else:\n",
        "        print(\"Prime number between 400 & 600 --> Number\",i,\":\",IsPrime(i))"
      ]
    },
    {
      "cell_type": "markdown",
      "id": "22dbe317-6de8-44c5-abae-eeb1e32dbda1",
      "metadata": {
        "id": "22dbe317-6de8-44c5-abae-eeb1e32dbda1"
      },
      "source": [
        "(iii) WAP to print all numbers between 100 and 1000 that are divisible by 7 and 9."
      ]
    },
    {
      "cell_type": "code",
      "execution_count": null,
      "id": "f9540225-82ea-4e3b-86ce-a6c4115edd6a",
      "metadata": {
        "id": "f9540225-82ea-4e3b-86ce-a6c4115edd6a",
        "outputId": "2a71c265-928d-4ff0-c953-986e755ebb0f"
      },
      "outputs": [
        {
          "name": "stdout",
          "output_type": "stream",
          "text": [
            "126\n",
            "189\n",
            "252\n",
            "315\n",
            "378\n",
            "441\n",
            "504\n",
            "567\n",
            "630\n",
            "693\n",
            "756\n",
            "819\n",
            "882\n",
            "945\n"
          ]
        }
      ],
      "source": [
        "for i in range(100,1000):\n",
        "    if i % 7 == 0:\n",
        "        if i % 9 == 0 :\n",
        "            print(i)"
      ]
    },
    {
      "cell_type": "markdown",
      "id": "aad564c4-cfad-461e-bf5e-078e8b1d56cd",
      "metadata": {
        "id": "aad564c4-cfad-461e-bf5e-078e8b1d56cd"
      },
      "source": [
        "Q5. WAP to create two lists of 10 random numbers between 10 and 30; Find\n"
      ]
    },
    {
      "cell_type": "code",
      "execution_count": null,
      "id": "5062613c-e9b1-414b-b56e-9c997302088c",
      "metadata": {
        "id": "5062613c-e9b1-414b-b56e-9c997302088c",
        "outputId": "b933dd74-5f33-49a4-939c-b87ec5d916fe"
      },
      "outputs": [
        {
          "name": "stdout",
          "output_type": "stream",
          "text": [
            "s1: [20, 30, 17, 28, 20, 26, 17, 17, 24, 10]\n",
            "s2: [28, 22, 10, 17, 26, 10, 23, 17, 29, 23]\n"
          ]
        }
      ],
      "source": [
        "import random as r\n",
        "s1=[]\n",
        "for i in range(1,11):\n",
        "    s1.append(r.randint(10,30))\n",
        "\n",
        "s2=[]\n",
        "for i in range(1,11):\n",
        "    s2.append(r.randint(10,30))\n",
        "print(\"s1:\",s1)\n",
        "print(\"s2:\",s2)"
      ]
    },
    {
      "cell_type": "markdown",
      "id": "0c4508a2-406a-474d-8606-50958420fe13",
      "metadata": {
        "id": "0c4508a2-406a-474d-8606-50958420fe13"
      },
      "source": [
        "(i) Common numbers in the two lists"
      ]
    },
    {
      "cell_type": "code",
      "execution_count": null,
      "id": "264e6cad-bb50-4089-863d-03678e1bcf5b",
      "metadata": {
        "id": "264e6cad-bb50-4089-863d-03678e1bcf5b",
        "outputId": "d20a9459-7912-4d4b-c99d-5896b8577078"
      },
      "outputs": [
        {
          "name": "stdout",
          "output_type": "stream",
          "text": [
            "s1: [14, 27, 27, 28, 22, 12, 26, 28, 25, 10]\n",
            "s2: [20, 15, 20, 14, 13, 25, 27, 24, 16, 17]\n",
            "Common numbers in 2 lists :  14\n",
            "Common numbers in 2 lists :  27\n",
            "Common numbers in 2 lists :  27\n",
            "Common numbers in 2 lists :  25\n"
          ]
        }
      ],
      "source": [
        "import random as r\n",
        "s1=[]\n",
        "for i in range(1,11):\n",
        "    s1.append(r.randint(10,30))\n",
        "\n",
        "s2=[]\n",
        "for i in range(1,11):\n",
        "    s2.append(r.randint(10,30))\n",
        "print(\"s1:\",s1)\n",
        "print(\"s2:\",s2)\n",
        "for i in s1:\n",
        "    for j in s2:\n",
        "        if i==j:\n",
        "            print(\"Common numbers in 2 lists : \" , i)"
      ]
    },
    {
      "cell_type": "markdown",
      "id": "41c7b6f9-07e7-4a40-b667-e8375bd6ce0e",
      "metadata": {
        "id": "41c7b6f9-07e7-4a40-b667-e8375bd6ce0e"
      },
      "source": [
        "(ii) Unique numbers in both the list"
      ]
    },
    {
      "cell_type": "code",
      "execution_count": null,
      "id": "1e63c98e-ae48-4477-95c0-f34a15dde390",
      "metadata": {
        "id": "1e63c98e-ae48-4477-95c0-f34a15dde390",
        "outputId": "62b67ff5-6274-4a7f-902a-fe7e758eb469"
      },
      "outputs": [
        {
          "name": "stdout",
          "output_type": "stream",
          "text": [
            "s1: [29, 14, 14, 30, 12, 26, 22, 27, 14, 17]\n",
            "s2: [13, 12, 12, 27, 17, 27, 29, 26, 20, 13]\n",
            "Common numbers in 2 lists :  29\n",
            "Common numbers in 2 lists :  12\n",
            "Common numbers in 2 lists :  12\n",
            "Common numbers in 2 lists :  26\n",
            "Common numbers in 2 lists :  27\n",
            "Common numbers in 2 lists :  27\n",
            "Common numbers in 2 lists :  17\n"
          ]
        }
      ],
      "source": [
        "import random as r\n",
        "s1=[]\n",
        "for i in range(1,11):\n",
        "    s1.append(r.randint(10,30))\n",
        "\n",
        "s2=[]\n",
        "for i in range(1,11):\n",
        "    s2.append(r.randint(10,30))\n",
        "print(\"s1:\",s1)\n",
        "print(\"s2:\",s2)\n",
        "for i in s1:\n",
        "    for j in s2:\n",
        "        if i==j:\n",
        "            print(\"Common numbers in 2 lists : \" , i)"
      ]
    },
    {
      "cell_type": "markdown",
      "id": "3615e302-f080-4ba0-b96c-276e3120bf82",
      "metadata": {
        "id": "3615e302-f080-4ba0-b96c-276e3120bf82"
      },
      "source": [
        "(iii) Minimum in both the list"
      ]
    },
    {
      "cell_type": "code",
      "execution_count": null,
      "id": "8836143a-4a04-41e0-b8f3-c775acd4f5b8",
      "metadata": {
        "id": "8836143a-4a04-41e0-b8f3-c775acd4f5b8",
        "outputId": "3d6494be-03d3-4d7b-aa3f-3a7695fbe4bb"
      },
      "outputs": [
        {
          "name": "stdout",
          "output_type": "stream",
          "text": [
            "s1: [19, 22, 11, 29, 22, 10, 12, 13, 30, 23]\n",
            "s2: [10, 17, 12, 14, 21, 28, 13, 10, 11, 30]\n",
            "Common numbers in 2 lists :  10\n"
          ]
        }
      ],
      "source": [
        "import random as r\n",
        "s1=[]\n",
        "for i in range(1,11):\n",
        "    s1.append(r.randint(10,30))\n",
        "\n",
        "s2=[]\n",
        "for i in range(1,11):\n",
        "    s2.append(r.randint(10,30))\n",
        "print(\"s1:\",s1)\n",
        "print(\"s2:\",s2)\n",
        "\n",
        "common = []\n",
        "for i in s1:\n",
        "    for j in s2:\n",
        "        if i==j:\n",
        "            common.append(i)\n",
        "print(\"Common numbers in 2 lists : \" , min(common))"
      ]
    },
    {
      "cell_type": "markdown",
      "id": "597aa3a1-2ff5-4dd9-96d2-8ddfd59b73fe",
      "metadata": {
        "id": "597aa3a1-2ff5-4dd9-96d2-8ddfd59b73fe"
      },
      "source": [
        "(iv) Maximum in both the list"
      ]
    },
    {
      "cell_type": "code",
      "execution_count": null,
      "id": "405a30b3-b9cb-4c6d-8c11-785cd9a42ed7",
      "metadata": {
        "id": "405a30b3-b9cb-4c6d-8c11-785cd9a42ed7",
        "outputId": "f71ae668-ad76-4991-8802-a930dd564f95"
      },
      "outputs": [
        {
          "name": "stdout",
          "output_type": "stream",
          "text": [
            "s1: [10, 29, 20, 16, 18, 30, 16, 18, 18, 27]\n",
            "s2: [16, 15, 28, 11, 25, 17, 13, 17, 29, 30]\n",
            "Common numbers in 2 lists :  30\n"
          ]
        }
      ],
      "source": [
        "import random as r\n",
        "s1=[]\n",
        "for i in range(1,11):\n",
        "    s1.append(r.randint(10,30))\n",
        "\n",
        "s2=[]\n",
        "for i in range(1,11):\n",
        "    s2.append(r.randint(10,30))\n",
        "print(\"s1:\",s1)\n",
        "print(\"s2:\",s2)\n",
        "\n",
        "common = []\n",
        "for i in s1:\n",
        "    for j in s2:\n",
        "        if i==j:\n",
        "            common.append(i)\n",
        "print(\"Common numbers in 2 lists : \" , max(common))"
      ]
    },
    {
      "cell_type": "markdown",
      "id": "f264c375-7745-4ae7-8865-788a3fa7e51d",
      "metadata": {
        "id": "f264c375-7745-4ae7-8865-788a3fa7e51d"
      },
      "source": [
        "(v) Sum of both the lists"
      ]
    },
    {
      "cell_type": "code",
      "execution_count": null,
      "id": "0d9784fb-6694-4fd4-95de-a206275ff5c8",
      "metadata": {
        "id": "0d9784fb-6694-4fd4-95de-a206275ff5c8",
        "outputId": "d8adf307-ed21-4c51-c48e-45d97681e2e0"
      },
      "outputs": [
        {
          "name": "stdout",
          "output_type": "stream",
          "text": [
            "s1: [10, 21, 27, 13, 25, 14, 23, 15, 13, 28]\n",
            "s2: [11, 30, 20, 14, 13, 21, 13, 15, 19, 28]\n",
            "Sum in both 2 lists :  373\n"
          ]
        }
      ],
      "source": [
        "import random as r\n",
        "s1=[]\n",
        "for i in range(1,11):\n",
        "    s1.append(r.randint(10,30))\n",
        "\n",
        "s2=[]\n",
        "for i in range(1,11):\n",
        "    s2.append(r.randint(10,30))\n",
        "print(\"s1:\",s1)\n",
        "print(\"s2:\",s2)\n",
        "\n",
        "sum1 = 0\n",
        "sum2 = 0\n",
        "for i in s1:\n",
        "    sum1 = sum1 + i\n",
        "for j in s2:\n",
        "    sum2 = sum2 + j\n",
        "print(\"Sum in both 2 lists : \" , sum1+sum2)"
      ]
    },
    {
      "cell_type": "markdown",
      "id": "0dc3b0a2-a9b6-4b19-9ed7-3e403e81ccc1",
      "metadata": {
        "id": "0dc3b0a2-a9b6-4b19-9ed7-3e403e81ccc1"
      },
      "source": [
        "Q6. WAP to create a list of 100 random numbers between 100 and 900. Count and print the:\n",
        "(i) All odd numbers\n"
      ]
    },
    {
      "cell_type": "code",
      "execution_count": null,
      "id": "dee0f9c8-6891-4121-8b15-379b0d84de7d",
      "metadata": {
        "id": "dee0f9c8-6891-4121-8b15-379b0d84de7d",
        "outputId": "728b1d81-7efc-4816-ce67-954f9f53bd78"
      },
      "outputs": [
        {
          "name": "stdout",
          "output_type": "stream",
          "text": [
            "[421, 662, 418, 177, 407, 669, 854, 129, 604, 225, 501, 321, 147, 365, 537, 426, 141, 557, 478, 723, 667, 750, 721, 311, 726, 738, 167, 124, 118, 246, 442, 296, 792, 382, 269, 340, 124, 171, 151, 684, 857, 458, 196, 792, 191, 187, 303, 518, 168, 663, 570, 350, 812, 119, 393, 875, 321, 494, 584, 325, 464, 315, 713, 173, 324, 339, 414, 692, 185, 582, 240, 197, 674, 150, 710, 894, 614, 819, 627, 161, 734, 197, 842, 146, 353, 539, 495, 706, 671, 417, 550, 490, 419, 770, 492, 377, 510, 177, 436, 244]\n"
          ]
        }
      ],
      "source": [
        "import random as r\n",
        " \n",
        "l=[]\n",
        "for i in range(1,101):\n",
        "    l.append(r.randint(100,900))\n",
        "print(l)"
      ]
    },
    {
      "cell_type": "code",
      "execution_count": null,
      "id": "945f6bc4-9d72-4c85-91c6-f97380916eaa",
      "metadata": {
        "id": "945f6bc4-9d72-4c85-91c6-f97380916eaa",
        "outputId": "cb20a5c6-7a59-4229-89b7-3b90e7e10f4a"
      },
      "outputs": [
        {
          "name": "stdout",
          "output_type": "stream",
          "text": [
            "[421, 177, 407, 669, 129, 225, 501, 321, 147, 365, 537, 141, 557, 723, 667, 721, 311, 167, 269, 171, 151, 857, 191, 187, 303, 663, 119, 393, 875, 321, 325, 315, 713, 173, 339, 185, 197, 819, 627, 161, 197, 353, 539, 495, 671, 417, 419, 377, 177]\n",
            "Count: 49\n"
          ]
        }
      ],
      "source": [
        "odd = []\n",
        "for i in l:\n",
        "    if i%2 != 0:\n",
        "        odd.append(i)\n",
        "print(odd)\n",
        "print(\"Count:\",len(odd))"
      ]
    },
    {
      "cell_type": "markdown",
      "id": "aef97ab6-0979-4e7b-a43e-5e3d2b5630b9",
      "metadata": {
        "id": "aef97ab6-0979-4e7b-a43e-5e3d2b5630b9"
      },
      "source": [
        "(ii) All even numbers"
      ]
    },
    {
      "cell_type": "code",
      "execution_count": null,
      "id": "ef33008d-de0d-47ad-8855-c5601a33cbdb",
      "metadata": {
        "id": "ef33008d-de0d-47ad-8855-c5601a33cbdb",
        "outputId": "677df5d3-9159-4754-c9f0-da83642a2e43"
      },
      "outputs": [
        {
          "name": "stdout",
          "output_type": "stream",
          "text": [
            "[662, 418, 854, 604, 426, 478, 750, 726, 738, 124, 118, 246, 442, 296, 792, 382, 340, 124, 684, 458, 196, 792, 518, 168, 570, 350, 812, 494, 584, 464, 324, 414, 692, 582, 240, 674, 150, 710, 894, 614, 734, 842, 146, 706, 550, 490, 770, 492, 510, 436, 244]\n",
            "Count: 51\n"
          ]
        }
      ],
      "source": [
        "even = []\n",
        "for i in l:\n",
        "    if i%2 == 0:\n",
        "        even.append(i)\n",
        "print(even)\n",
        "print(\"Count:\",len(even))"
      ]
    },
    {
      "cell_type": "markdown",
      "id": "3eb568b8-3c61-4bd0-88d5-efc2d75f366e",
      "metadata": {
        "id": "3eb568b8-3c61-4bd0-88d5-efc2d75f366e"
      },
      "source": [
        "(iii) All prime numbers"
      ]
    },
    {
      "cell_type": "code",
      "execution_count": null,
      "id": "4c975739-f9f4-4ffb-9d50-160c1e7c539c",
      "metadata": {
        "id": "4c975739-f9f4-4ffb-9d50-160c1e7c539c",
        "outputId": "7fca229b-bfe7-46a6-baf9-6640c727e0f6"
      },
      "outputs": [
        {
          "name": "stdout",
          "output_type": "stream",
          "text": [
            "[421, 177, 407, 669, 129, 225, 501, 321, 147, 365, 537, 141, 557, 723, 667, 721, 311, 167, 269, 171, 151, 857, 191, 187, 303, 663, 119, 393, 875, 321, 325, 315, 713, 173, 339, 185, 197, 819, 627, 161, 197, 353, 539, 495, 671, 417, 419, 377, 177]\n",
            "Count: 49\n"
          ]
        }
      ],
      "source": [
        "def IsPrime(n):\n",
        "    for i in range(2, n//2 + 1):\n",
        "        if n%i==0:\n",
        "            return 0\n",
        "        return n\n",
        "\n",
        "prime = []\n",
        "for i in l:\n",
        "    if IsPrime(i) != 0:\n",
        "        prime.append(IsPrime(i))\n",
        "print(prime)\n",
        "print(\"Count:\",len(prime))"
      ]
    },
    {
      "cell_type": "markdown",
      "id": "e3f961ab-d9fd-4ef4-bbc3-ef14829dc537",
      "metadata": {
        "id": "e3f961ab-d9fd-4ef4-bbc3-ef14829dc537"
      },
      "source": [
        "Q7. D is a dictionary defined as D={1:\"One\",2:\"Two\",3:\"Three\",4:\"Four\", 5:\"Five\"}.\n",
        "WAP to read all the keys and values from dictionary and write to the file in the given below format.\n",
        "Key1, Value1\n",
        "Key2, Value2\n",
        "Key3, Value3"
      ]
    },
    {
      "cell_type": "code",
      "execution_count": null,
      "id": "0c3b710a-f50d-4ecf-afa3-2c2a7fa9636c",
      "metadata": {
        "id": "0c3b710a-f50d-4ecf-afa3-2c2a7fa9636c"
      },
      "outputs": [],
      "source": [
        "D={1:\"One\",2:\"Two\",3:\"Three\",4:\"Four\", 5:\"Five\"}"
      ]
    },
    {
      "cell_type": "code",
      "execution_count": null,
      "id": "c0be8ddb-9617-4778-8bbc-d561de7b260c",
      "metadata": {
        "id": "c0be8ddb-9617-4778-8bbc-d561de7b260c",
        "outputId": "5ff8c613-ca91-45fb-9102-2d2c011a5746"
      },
      "outputs": [
        {
          "name": "stdout",
          "output_type": "stream",
          "text": [
            "Keys and values are written in file\n"
          ]
        }
      ],
      "source": [
        "fp=open('output.txt','w')\n",
        "for key,values in D.items():\n",
        "        fp.write(f\"{key} ,{values}\")\n",
        "fp.close()\n",
        "print(\"Keys and values are written in file\")"
      ]
    },
    {
      "cell_type": "markdown",
      "id": "e50f8d3b-5390-49c0-913b-753e161703e9",
      "metadata": {
        "id": "e50f8d3b-5390-49c0-913b-753e161703e9"
      },
      "source": [
        "Q8. L is a list defined as L={\"One\",\"Two\",\"Three\",\"Four\",\"Five\"}.\n",
        "WAP to count the length of reach element from a list and write to the file in the given below format:\n",
        "One, 3\n",
        "Two, 3\n",
        "Four, 4"
      ]
    },
    {
      "cell_type": "code",
      "execution_count": null,
      "id": "5282d20c-2771-4d21-bddf-fa2c83357041",
      "metadata": {
        "id": "5282d20c-2771-4d21-bddf-fa2c83357041",
        "outputId": "f1704156-2c0c-41ce-b074-f0dd997c123b"
      },
      "outputs": [
        {
          "name": "stdout",
          "output_type": "stream",
          "text": [
            "List elements are written in file\n"
          ]
        }
      ],
      "source": [
        "L={\"One\",\"Two\",\"Three\",\"Four\",\"Five\"}\n",
        "\n",
        "f=open('q8.txt','w')\n",
        "for i in L:\n",
        "    length = len(i)\n",
        "    f.write(f\"{i}, {length}\") \n",
        "f.close()\n",
        "print(\"List elements are written in file\")"
      ]
    },
    {
      "cell_type": "markdown",
      "id": "b8798621-7b71-4761-b624-082ba24376fe",
      "metadata": {
        "id": "b8798621-7b71-4761-b624-082ba24376fe"
      },
      "source": [
        "Q9. Write to the file 100 random strings whose length between 10 and 15."
      ]
    },
    {
      "cell_type": "code",
      "execution_count": null,
      "id": "3724a5e7-9901-48a0-820b-d6ad1ba8fd42",
      "metadata": {
        "id": "3724a5e7-9901-48a0-820b-d6ad1ba8fd42"
      },
      "outputs": [],
      "source": [
        "import random as r\n",
        "import string as s\n",
        "\n",
        "\n",
        "for i in range(100):\n",
        "    length = r.randint(10,15)\n",
        "    str1=r.sample(s.ascii_letters+s.digits,k=length)\n",
        "    str1=\"\".join(str1)\n",
        "    \n",
        "    \n",
        "file=open('q9.txt','w')\n",
        "for i in range(1,101):\n",
        "    file.write(str1 + \"\\n\")\n",
        "file.close()"
      ]
    },
    {
      "cell_type": "markdown",
      "id": "004cb976-e336-408d-a55c-a5e48a8b051f",
      "metadata": {
        "id": "004cb976-e336-408d-a55c-a5e48a8b051f"
      },
      "source": [
        "Q10. Write to the file all prime numbers between 600 and 800."
      ]
    },
    {
      "cell_type": "code",
      "execution_count": null,
      "id": "53e0ebe3-ea62-4893-ac52-5d9acabd49e6",
      "metadata": {
        "id": "53e0ebe3-ea62-4893-ac52-5d9acabd49e6"
      },
      "outputs": [],
      "source": [
        "def IsPrime(n):\n",
        "    for i in range(2, n//2 + 1):\n",
        "        if n%i==0:\n",
        "            return 0\n",
        "        return n\n",
        "\n",
        "file = open('Q10.txt','w')\n",
        "for i in range(600,800):\n",
        "    if IsPrime(i) != 0:\n",
        "        file.write(str(i))\n",
        "file.close()\n"
      ]
    },
    {
      "cell_type": "markdown",
      "id": "c364b078-fd81-4993-8982-dd5e90efb21b",
      "metadata": {
        "id": "c364b078-fd81-4993-8982-dd5e90efb21b"
      },
      "source": [
        "Q11. WAP to calculate the time taken by a program."
      ]
    },
    {
      "cell_type": "code",
      "execution_count": null,
      "id": "a22e1934-245d-4932-919e-d59d5e9553bb",
      "metadata": {
        "id": "a22e1934-245d-4932-919e-d59d5e9553bb",
        "outputId": "7df99871-8c10-4e02-d81a-8bd659f2011f"
      },
      "outputs": [
        {
          "name": "stdout",
          "output_type": "stream",
          "text": [
            "Sum of first 100 numbers is: 4999950000\n",
            "Execution time: 0.008999109268188477 seconds\n"
          ]
        }
      ],
      "source": [
        "import time\n",
        "\n",
        "st = time.time()\n",
        "sum_x = 0\n",
        "for i in range(100000):\n",
        "    sum_x += i\n",
        "print('Sum of first 100 numbers is:', sum_x)\n",
        "et = time.time()\n",
        "\n",
        "\n",
        "elapsed_time = et - st\n",
        "print('Execution time:', elapsed_time, 'seconds')"
      ]
    },
    {
      "cell_type": "markdown",
      "id": "dd5dd31e-5904-4690-aa0b-18fa86ebb945",
      "metadata": {
        "id": "dd5dd31e-5904-4690-aa0b-18fa86ebb945"
      },
      "source": [
        "Q12. WAP to sort following number of elements in a list, calculate time taken and plot the graph.\n",
        "Number of elements in list\n",
        "Time Taken\n",
        "5k\n",
        "T1\n",
        "10k\n",
        "T2\n",
        "15k\n",
        "T3\n",
        "20k\n",
        "T4\n",
        "25k\n",
        "T5"
      ]
    },
    {
      "cell_type": "code",
      "execution_count": 7,
      "id": "12f8082f-95d1-47c3-9bbb-4e37e6e4280d",
      "metadata": {
        "colab": {
          "base_uri": "https://localhost:8080/",
          "height": 490
        },
        "id": "12f8082f-95d1-47c3-9bbb-4e37e6e4280d",
        "outputId": "aaf11e3c-fd29-4bc3-b67a-5b180aef3a98"
      },
      "outputs": [
        {
          "output_type": "stream",
          "name": "stdout",
          "text": [
            "Execution time: 0.010335445404052734 0.015433311462402344 0.015214204788208008 0.022435903549194336 0.02135181427001953 seconds\n"
          ]
        },
        {
          "output_type": "display_data",
          "data": {
            "text/plain": [
              "<Figure size 640x480 with 1 Axes>"
            ],
            "image/png": "[encoded data removed]"
          },
          "metadata": {}
        }
      ],
      "source": [
        "import time\n",
        "import random as r\n",
        "\n",
        "st = time.time()\n",
        "list_5000 =[]\n",
        "for i in range(1,5001):\n",
        "    list_5000.append(r.randint(1,5000))\n",
        "list_5000.sort()\n",
        "et = time.time()\n",
        "T1 = et - st\n",
        "\n",
        "st = time.time()\n",
        "list_10000 =[]\n",
        "for i in range(1,10001):\n",
        "    list_10000.append(r.randint(1,10000))\n",
        "list_10000.sort()\n",
        "et = time.time()\n",
        "T2 = et - st\n",
        "\n",
        "st = time.time()\n",
        "list_15000 =[]\n",
        "for i in range(1,15001):\n",
        "    list_15000.append(r.randint(1,15000))\n",
        "list_15000.sort()\n",
        "et = time.time()\n",
        "T3= et - st\n",
        "\n",
        "st = time.time()\n",
        "list_20000 =[]\n",
        "for i in range(1,20001):\n",
        "    list_20000.append(r.randint(1,20000))\n",
        "list_20000.sort()\n",
        "et = time.time()\n",
        "T4 = et - st\n",
        "\n",
        "st = time.time()\n",
        "list_25000 =[]\n",
        "for i in range(1,25001):\n",
        "    list_20000.append(r.randint(1,25000))\n",
        "list_25000.sort()\n",
        "et = time.time()\n",
        "T5 = et - st\n",
        "\n",
        "print('Execution time:', T1 , T2 , T3 , T4 , T5 , 'seconds')\n",
        "\n",
        "\n",
        "import matplotlib.pyplot as plt\n",
        "x = [\"5k\" , \"10k\", \"15k\" , \"20k\"  ,\"25k\"]\n",
        "y = [T1 , T2 , T3 , T4 , T5]\n",
        "\n",
        "plt.plot(x, y, marker='o')\n",
        "plt.xlabel('Number of Elements')\n",
        "plt.ylabel('Time Taken (seconds)')\n",
        "plt.title('Sorting Time')\n",
        "plt.grid(True)\n",
        "plt.show()"
      ]
    },
    {
      "cell_type": "markdown",
      "id": "7f4613ff-3f7f-41d9-9e03-326df010c89f",
      "metadata": {
        "id": "7f4613ff-3f7f-41d9-9e03-326df010c89f"
      },
      "source": [
        "Q13. WAP to create a dictionary of student marks in five subjects and you have to find the student\n",
        "having maximum and minimum average marks."
      ]
    },
    {
      "cell_type": "code",
      "execution_count": 20,
      "id": "685fe37d-77db-4112-b930-f1e4e7d1298d",
      "metadata": {
        "id": "685fe37d-77db-4112-b930-f1e4e7d1298d",
        "colab": {
          "base_uri": "https://localhost:8080/",
          "height": 244
        },
        "outputId": "49597349-44e0-428f-c8f3-06fb4fd6d6cb"
      },
      "outputs": [
        {
          "output_type": "error",
          "ename": "TypeError",
          "evalue": "ignored",
          "traceback": [
            "\u001b[0;31m---------------------------------------------------------------------------\u001b[0m",
            "\u001b[0;31mTypeError\u001b[0m                                 Traceback (most recent call last)",
            "\u001b[0;32m<ipython-input-20-37db5fee3c69>\u001b[0m in \u001b[0;36m<cell line: 2>\u001b[0;34m()\u001b[0m\n\u001b[1;32m      1\u001b[0m marks = [\n\u001b[0;32m----> 2\u001b[0;31m           \u001b[0;34m{\u001b[0m\u001b[0mengMarks\u001b[0m \u001b[0;34m:\u001b[0m  \u001b[0;34m{\u001b[0m\u001b[0;34m\"Pranav\"\u001b[0m \u001b[0;34m:\u001b[0m \u001b[0;36m93\u001b[0m \u001b[0;34m,\u001b[0m \u001b[0;34m\"Ram\"\u001b[0m \u001b[0;34m:\u001b[0m \u001b[0;36m76\u001b[0m\u001b[0;34m,\u001b[0m \u001b[0;34m\"Shyam\"\u001b[0m \u001b[0;34m:\u001b[0m \u001b[0;36m69\u001b[0m \u001b[0;34m,\u001b[0m \u001b[0;34m\"Rita\"\u001b[0m \u001b[0;34m:\u001b[0m \u001b[0;36m67\u001b[0m\u001b[0;34m,\u001b[0m \u001b[0;34m\"Tommy\"\u001b[0m \u001b[0;34m:\u001b[0m \u001b[0;36m22\u001b[0m\u001b[0;34m}\u001b[0m\u001b[0;34m}\u001b[0m \u001b[0;34m,\u001b[0m\u001b[0;34m\u001b[0m\u001b[0;34m\u001b[0m\u001b[0m\n\u001b[0m\u001b[1;32m      3\u001b[0m           \u001b[0;34m{\u001b[0m\u001b[0mhindiMarks\u001b[0m \u001b[0;34m:\u001b[0m \u001b[0;34m{\u001b[0m\u001b[0;34m\"Pranav\"\u001b[0m \u001b[0;34m:\u001b[0m \u001b[0;36m67\u001b[0m \u001b[0;34m,\u001b[0m \u001b[0;34m\"Ram\"\u001b[0m \u001b[0;34m:\u001b[0m \u001b[0;36m45\u001b[0m\u001b[0;34m,\u001b[0m \u001b[0;34m\"Shyam\"\u001b[0m \u001b[0;34m:\u001b[0m\u001b[0;36m66\u001b[0m \u001b[0;34m,\u001b[0m \u001b[0;34m\"Rita\"\u001b[0m \u001b[0;34m:\u001b[0m \u001b[0;36m25\u001b[0m\u001b[0;34m,\u001b[0m \u001b[0;34m\"Tommy\"\u001b[0m \u001b[0;34m:\u001b[0m \u001b[0;36m23\u001b[0m\u001b[0;34m}\u001b[0m\u001b[0;34m}\u001b[0m \u001b[0;34m,\u001b[0m\u001b[0;34m\u001b[0m\u001b[0;34m\u001b[0m\u001b[0m\n\u001b[1;32m      4\u001b[0m           \u001b[0;34m{\u001b[0m\u001b[0mmathsMarks\u001b[0m \u001b[0;34m:\u001b[0m \u001b[0;34m{\u001b[0m\u001b[0;34m\"Pranav\"\u001b[0m \u001b[0;34m:\u001b[0m \u001b[0;36m98\u001b[0m \u001b[0;34m,\u001b[0m \u001b[0;34m\"Ram\"\u001b[0m \u001b[0;34m:\u001b[0m \u001b[0;36m64\u001b[0m\u001b[0;34m,\u001b[0m \u001b[0;34m\"Shyam\"\u001b[0m \u001b[0;34m:\u001b[0m \u001b[0;36m85\u001b[0m \u001b[0;34m,\u001b[0m \u001b[0;34m\"Rita\"\u001b[0m \u001b[0;34m:\u001b[0m \u001b[0;36m88\u001b[0m\u001b[0;34m,\u001b[0m \u001b[0;34m\"Tommy\"\u001b[0m \u001b[0;34m:\u001b[0m \u001b[0;36m99\u001b[0m\u001b[0;34m}\u001b[0m\u001b[0;34m}\u001b[0m\u001b[0;34m,\u001b[0m\u001b[0;34m\u001b[0m\u001b[0;34m\u001b[0m\u001b[0m\n\u001b[1;32m      5\u001b[0m           \u001b[0;34m{\u001b[0m\u001b[0msstMarks\u001b[0m \u001b[0;34m:\u001b[0m \u001b[0;34m{\u001b[0m\u001b[0;34m\"Pranav\"\u001b[0m \u001b[0;34m:\u001b[0m \u001b[0;36m91\u001b[0m \u001b[0;34m,\u001b[0m \u001b[0;34m\"Ram\"\u001b[0m \u001b[0;34m:\u001b[0m \u001b[0;36m85\u001b[0m\u001b[0;34m,\u001b[0m \u001b[0;34m\"Shyam\"\u001b[0m \u001b[0;34m:\u001b[0m \u001b[0;36m65\u001b[0m \u001b[0;34m,\u001b[0m \u001b[0;34m\"Rita\"\u001b[0m \u001b[0;34m:\u001b[0m \u001b[0;36m55\u001b[0m\u001b[0;34m,\u001b[0m \u001b[0;34m\"Tommy\"\u001b[0m \u001b[0;34m:\u001b[0m \u001b[0;36m88\u001b[0m\u001b[0;34m}\u001b[0m\u001b[0;34m}\u001b[0m\u001b[0;34m,\u001b[0m\u001b[0;34m\u001b[0m\u001b[0;34m\u001b[0m\u001b[0m\n",
            "\u001b[0;31mTypeError\u001b[0m: unhashable type: 'dict'"
          ]
        }
      ],
      "source": [
        "marks = [\n",
        "          {engMarks :  {\"Pranav\" : 93 , \"Ram\" : 76, \"Shyam\" : 69 , \"Rita\" : 67, \"Tommy\" : 22}} ,\n",
        "          {hindiMarks : {\"Pranav\" : 67 , \"Ram\" : 45, \"Shyam\" :66 , \"Rita\" : 25, \"Tommy\" : 23}} , \n",
        "          {mathsMarks : {\"Pranav\" : 98 , \"Ram\" : 64, \"Shyam\" : 85 , \"Rita\" : 88, \"Tommy\" : 99}},\n",
        "          {sstMarks : {\"Pranav\" : 91 , \"Ram\" : 85, \"Shyam\" : 65 , \"Rita\" : 55, \"Tommy\" : 88}},\n",
        "          {scienceMarks : {\"Pranav\" : 95, \"Ram\" : 96, \"Shyam\" : 22 , \"Rita\" : 26, \"Tommy\" : 55}}        \n",
        "        ]\n",
        "\n",
        "\n",
        "#st1 = \"Pranav\"\n",
        "\n",
        "for i in marks:\n",
        "  for j in marks[i]:\n",
        "    if j == \"Pranav\":\n",
        "      m1 = engMarks[\"j\"]\n",
        "      m2 = hindiMarks[\"j\"]\n",
        "      m3 = mathsMarks[\"j\"]\n",
        "      m4 = sstMarks[\"j\"]\n",
        "      m5 =scienceMarks[\"j\"]\n",
        "      print(\"Minimum marks:L\",min(m1,m2,m3,m4.m5))\n",
        "      print(\"Average marks:L\",avg(m1,m2,m3,m4.m5))\n",
        "      print(\"Maximum marks:L\",max(m1,m2,m3,m4.m5))\n"
      ]
    },
    {
      "cell_type": "code",
      "source": [],
      "metadata": {
        "id": "iLBruKbYHbxd"
      },
      "id": "iLBruKbYHbxd",
      "execution_count": null,
      "outputs": []
    }
  ],
  "metadata": {
    "kernelspec": {
      "display_name": "Python 3 (ipykernel)",
      "language": "python",
      "name": "python3"
    },
    "language_info": {
      "codemirror_mode": {
        "name": "ipython",
        "version": 3
      },
      "file_extension": ".py",
      "mimetype": "text/x-python",
      "name": "python",
      "nbconvert_exporter": "python",
      "pygments_lexer": "ipython3",
      "version": "3.9.13"
    },
    "colab": {
      "provenance": [],
      "include_colab_link": true
    }
  },
  "nbformat": 4,
  "nbformat_minor": 5
}